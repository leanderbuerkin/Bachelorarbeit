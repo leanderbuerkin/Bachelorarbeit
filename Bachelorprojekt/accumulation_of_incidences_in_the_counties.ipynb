{
 "cells": [
  {
   "cell_type": "markdown",
   "metadata": {},
   "source": [
    "# Plot the data\n",
    "Read the file [\"Readme.ipynb\"](Readme.ipynb) for more information."
   ]
  },
  {
   "cell_type": "markdown",
   "metadata": {},
   "source": [
    "## Modules\n",
    "Needed to use non-Python functionalities already programmed by someone else."
   ]
  },
  {
   "cell_type": "code",
   "execution_count": 1,
   "metadata": {},
   "outputs": [],
   "source": [
    "# Used to cast the polygons into np.arrays and afterwards transpose them easily with the .T function\n",
    "import numpy as np\n",
    "import matplotlib.pyplot as plt    # to plot the counties\n",
    "# Used to determine which part of the plot should be saved\n",
    "from matplotlib.transforms import Bbox"
   ]
  },
  {
   "cell_type": "markdown",
   "metadata": {},
   "source": [
    "## Get the Data\n",
    "Read the file [\"Readme.ipynb\"](Readme.ipynb) or check out the files [\"get_data.ipynb\"](get_data.ipynb) and [\"get_geographical_data_of_german_counties.ipynb\"](get_geographical_data_of_german_counties.ipynb) for more information about the data collection."
   ]
  },
  {
   "cell_type": "code",
   "execution_count": 2,
   "metadata": {},
   "outputs": [
    {
     "name": "stdout",
     "output_type": "stream",
     "text": [
      "Polished county data from file is ready to go!\n",
      "Polished covid19 data from file is ready to go!\n",
      "All data is ready!\n"
     ]
    }
   ],
   "source": [
    "%run get_data.ipynb\n",
    "print(\"All data is ready!\")"
   ]
  },
  {
   "cell_type": "markdown",
   "metadata": {},
   "source": [
    "## Verteilung der Inzidenzen in Deutschland"
   ]
  },
  {
   "cell_type": "code",
   "execution_count": 3,
   "metadata": {},
   "outputs": [],
   "source": [
    "def color_for_pop_density(pop_density):\n",
    "    if pop_density > 1000:\n",
    "        color = (1 - (pop_density-1000)/(population_densities[-1]-1000), 0, 0)\n",
    "    elif pop_density > 200:\n",
    "        color = (1, 1-(pop_density-200)/800, 0)\n",
    "    elif pop_density > 50:\n",
    "        color = ((pop_density-50)/200, 1, 0)\n",
    "    else:\n",
    "        color = (0, 1, 1-pop_density/50)\n",
    "    return color"
   ]
  },
  {
   "cell_type": "code",
   "execution_count": 4,
   "metadata": {},
   "outputs": [
    {
     "ename": "TypeError",
     "evalue": "string indices must be integers",
     "output_type": "error",
     "traceback": [
      "\u001b[1;31m---------------------------------------------------------------------------\u001b[0m",
      "\u001b[1;31mTypeError\u001b[0m                                 Traceback (most recent call last)",
      "\u001b[1;32m<ipython-input-4-07f346185d4d>\u001b[0m in \u001b[0;36m<module>\u001b[1;34m\u001b[0m\n\u001b[0;32m      1\u001b[0m \u001b[0mincidences_of_counties_acc\u001b[0m \u001b[1;33m=\u001b[0m \u001b[0mdict\u001b[0m\u001b[1;33m(\u001b[0m\u001b[1;33m)\u001b[0m\u001b[1;33m\u001b[0m\u001b[1;33m\u001b[0m\u001b[0m\n\u001b[0;32m      2\u001b[0m \u001b[1;32mfor\u001b[0m \u001b[0mAdmUnitId\u001b[0m\u001b[1;33m,\u001b[0m \u001b[0mcounty\u001b[0m \u001b[1;32min\u001b[0m \u001b[0mcovid19\u001b[0m\u001b[1;33m.\u001b[0m\u001b[0mvalues\u001b[0m\u001b[1;33m(\u001b[0m\u001b[1;33m)\u001b[0m\u001b[1;33m:\u001b[0m\u001b[1;33m\u001b[0m\u001b[1;33m\u001b[0m\u001b[0m\n\u001b[1;32m----> 3\u001b[1;33m     \u001b[0mincidences_of_counties_acc\u001b[0m\u001b[1;33m[\u001b[0m\u001b[0mAdmUnitId\u001b[0m\u001b[1;33m]\u001b[0m \u001b[1;33m=\u001b[0m \u001b[0msum\u001b[0m\u001b[1;33m(\u001b[0m\u001b[0mcounty\u001b[0m\u001b[1;33m[\u001b[0m\u001b[1;34m\"incidences\"\u001b[0m\u001b[1;33m]\u001b[0m\u001b[1;33m)\u001b[0m\u001b[1;33m\u001b[0m\u001b[1;33m\u001b[0m\u001b[0m\n\u001b[0m\u001b[0;32m      4\u001b[0m \u001b[0mincidences_sums_copy\u001b[0m \u001b[1;33m=\u001b[0m \u001b[0mlist\u001b[0m\u001b[1;33m(\u001b[0m\u001b[0mincidences_of_counties_acc\u001b[0m\u001b[1;33m.\u001b[0m\u001b[0mvalues\u001b[0m\u001b[1;33m(\u001b[0m\u001b[1;33m)\u001b[0m\u001b[1;33m)\u001b[0m\u001b[1;33m.\u001b[0m\u001b[0mcopy\u001b[0m\u001b[1;33m(\u001b[0m\u001b[1;33m)\u001b[0m\u001b[1;33m\u001b[0m\u001b[1;33m\u001b[0m\u001b[0m\n\u001b[0;32m      5\u001b[0m \u001b[0mincidences_sums_copy\u001b[0m\u001b[1;33m.\u001b[0m\u001b[0msort\u001b[0m\u001b[1;33m(\u001b[0m\u001b[1;33m)\u001b[0m\u001b[1;33m\u001b[0m\u001b[1;33m\u001b[0m\u001b[0m\n",
      "\u001b[1;31mTypeError\u001b[0m: string indices must be integers"
     ]
    }
   ],
   "source": [
    "incidences_of_counties_acc = dict()\n",
    "for AdmUnitId, county in covid19.values():\n",
    "    incidences_of_counties_acc[AdmUnitId] = sum(county[\"incidences\"])\n",
    "incidences_sums_copy = list(incidences_of_counties_acc.values()).copy()\n",
    "incidences_sums_copy.sort()\n",
    "print(incidences_of_counties_acc[-1])\n",
    "plt.plot(incidences_of_counties_acc)"
   ]
  },
  {
   "cell_type": "code",
   "execution_count": null,
   "metadata": {},
   "outputs": [],
   "source": [
    "plt.figure(figsize=(6, 6), facecolor='darkgrey')    # enlarge plot\n",
    "population_densities = list()\n",
    "for AdmUnitId, county in counties_geography.items():\n",
    "    population_densities.append(county[\"population_density\"])\n",
    "population_densities.sort()\n",
    "\n",
    "plt.title(\"Verteilung der Bevölkerungsdichten\\nunter den deutschen Landkreisen\",\n",
    "         fontsize=20)\n",
    "plt.ylabel(\"Bevölkerungsdichte\\nin Einwohner pro Quadratkilometer\",\n",
    "         fontsize=15)\n",
    "plt.yticks(fontsize=15)\n",
    "plt.text(10, 13000, \"Anzahl: \" + str(len(population_densities)),\n",
    "         fontweight=1000, fontsize=25, color=(0.5, 0.6, 0.75))\n",
    "plt.text(10, 11500, \"Minimum: \" + str(int(population_densities[0])),\n",
    "         fontweight=1000, fontsize=25, color=(0.5, 0.6, 0.75))\n",
    "plt.text(10, 10000, \"Maximum: \" + str(int(population_densities[-1])),\n",
    "         fontweight=1000, fontsize=25, color=(0.5, 0.6, 0.75))\n",
    "plt.text(10, 9000, \"Maximum ohne Berlin: \" + str(int(population_densities[-7])),\n",
    "         fontweight=1000, fontsize=15, color=(0.5, 0.6, 0.75))\n",
    "\n",
    "colors = list()\n",
    "for pop_density in population_densities:\n",
    "    colors.append(color_for_pop_density(pop_density))\n",
    "plt.scatter([i for i in range(len(population_densities))],\n",
    "            population_densities, color=colors)\n",
    "# plt.savefig(\"media/population_density_counties_distribution.png\",\n",
    "            #facecolor=\"darkgrey\", bbox_inches=Bbox([[-0.7,0.4],[5.7,6]]))"
   ]
  },
  {
   "cell_type": "code",
   "execution_count": null,
   "metadata": {},
   "outputs": [],
   "source": [
    "plt.figure(figsize=(9, 12))    # enlarge plot\n",
    "for AdmUnitID, incidences_sum in incidences_of_counties_acc():\n",
    "    color = (1-((incidences_sum - incidences_sums_copy[0])/\n",
    "             (incidences_sums_copy[-1] - incidences_sums_copy[0])), 0, 0)\n",
    "    for polygon in counties_geography[AdmUnitID]['geometry']:\n",
    "        x,y = np.array(polygon).T\n",
    "        plt.fill(x, y, color=color)\n",
    "plt.show()"
   ]
  },
  {
   "cell_type": "code",
   "execution_count": null,
   "metadata": {},
   "outputs": [],
   "source": []
  }
 ],
 "metadata": {
  "kernelspec": {
   "display_name": "Python 3",
   "language": "python",
   "name": "python3"
  },
  "language_info": {
   "codemirror_mode": {
    "name": "ipython",
    "version": 3
   },
   "file_extension": ".py",
   "mimetype": "text/x-python",
   "name": "python",
   "nbconvert_exporter": "python",
   "pygments_lexer": "ipython3",
   "version": "3.7.10"
  }
 },
 "nbformat": 4,
 "nbformat_minor": 4
}
