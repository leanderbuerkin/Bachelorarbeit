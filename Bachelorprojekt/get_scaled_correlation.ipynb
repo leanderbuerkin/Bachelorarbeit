{
 "cells": [
  {
   "cell_type": "markdown",
   "metadata": {},
   "source": [
    "# Plot the data\n",
    "Read the file [\"Readme.ipynb\"](Readme.ipynb) for more information."
   ]
  },
  {
   "cell_type": "markdown",
   "metadata": {},
   "source": [
    "## Modules\n",
    "Needed to use non-Python functionalities already programmed by someone else."
   ]
  },
  {
   "cell_type": "code",
   "execution_count": 1,
   "metadata": {},
   "outputs": [],
   "source": [
    "# Used to cast the polygons into np.arrays and afterwards transpose them easily with the .T function\n",
    "import numpy as np\n",
    "import matplotlib.pyplot as plt    # to plot the counties"
   ]
  },
  {
   "cell_type": "markdown",
   "metadata": {},
   "source": [
    "## Control\n",
    "Set variables to \"True\" to trigger the action described by the comment and the variable's name."
   ]
  },
  {
   "cell_type": "code",
   "execution_count": 2,
   "metadata": {},
   "outputs": [],
   "source": [
    "# Determines what array shifts are allowed:\n",
    "# The shifts represent the time delays in days;\n",
    "# The time delay with the highest probability of correlation represents\n",
    "# the number of days after which the numbers of one county show a similar development\n",
    "# as the numbers of another county.\n",
    "max_shift = 30\n",
    "test_get_scaled_correlation_with_sinus = False"
   ]
  },
  {
   "cell_type": "markdown",
   "metadata": {},
   "source": [
    "## Function to calculate the probability of correlations between two arrays"
   ]
  },
  {
   "cell_type": "code",
   "execution_count": 3,
   "metadata": {},
   "outputs": [],
   "source": [
    "def get_scaled_correlation(array1, array2, return_all_shifts = False):\n",
    "    if len(array1) != len(array2):\n",
    "        print(\"The given arrays seem to have different lengths, this might cause problems.\")\n",
    "\n",
    "    # create array with the probabilities for a correlation between\n",
    "    # array1 and array2 for every shift possible\n",
    "    correlations = np.correlate(array1, array2, mode=\"full\")\n",
    "    \n",
    "\n",
    "    # Get the number of products\n",
    "    max_number_of_products = min(len(array1), len(array2))\n",
    "    number_of_products = np.concatenate((\n",
    "        np.arange(1, max_number_of_products),    # start of array2 left from start of array1\n",
    "        np.full_like(np.arange(abs(len(array2)-len(array1))), max_number_of_products),\n",
    "        np.arange(max_number_of_products, 0, -1)    # end of array2 right from end of array1\n",
    "    ), axis=None)\n",
    "\n",
    "    # Generate the array containing the shift of array2 relative to array1\n",
    "    position_array2_to_array1 = np.append(np.arange(-len(array2) + 1, 0),\n",
    "                                          np.arange(0, len(array1)))\n",
    "\n",
    "    if (len(correlations) != len(position_array2_to_array1) or\n",
    "        len(correlations) != len(number_of_products)):\n",
    "        raise Exception(\"The output arrays of the get_scaled_correlation-function \" +\n",
    "                        \"do not have the same length.\")\n",
    "\n",
    "    if return_all_shifts:\n",
    "        # Scale by dividing by the number of products\n",
    "        correlations = correlations // number_of_products\n",
    "        return (correlations, number_of_products, position_array2_to_array1, \n",
    "                position_array2_to_array1[np.argmax(correlations)])\n",
    "    borders = (np.where(position_array2_to_array1 == -max_shift)[0][0], \n",
    "               np.where(position_array2_to_array1 == max_shift)[0][0] + 1)\n",
    "    # Scale by dividing by the number of products\n",
    "    correlations = (correlations[borders[0]:borders[1]] //\n",
    "                    number_of_products[borders[0]:borders[1]])\n",
    "    return(\n",
    "        correlations,\n",
    "        number_of_products[borders[0]:borders[1]],\n",
    "        position_array2_to_array1[borders[0]:borders[1]],\n",
    "        position_array2_to_array1[np.argmax(correlations) + borders[0]]\n",
    "    )"
   ]
  },
  {
   "cell_type": "code",
   "execution_count": 4,
   "metadata": {},
   "outputs": [
    {
     "name": "stdout",
     "output_type": "stream",
     "text": [
      "-1\n",
      "(should be 0. In this case shifting by -1 and 1 produces bigger correlation probabilities, because the discrete values of the sinus are asymmetrical.)\n",
      "[14484 14544 14599 14650 14696 14737 14774 14806 14833 14855 14872 14884\n",
      " 14891 14894 14891 14894 14891 14884 14872 14855 14833 14806 14774 14737\n",
      " 14696 14650 14599 14544 14484]\n",
      "[ 986  987  988  989  990  991  992  993  994  995  996  997  998  999\n",
      " 1000  999  998  997  996  995  994  993  992  991  990  989  988  987\n",
      "  986]\n",
      "[-14 -13 -12 -11 -10  -9  -8  -7  -6  -5  -4  -3  -2  -1   0   1   2   3\n",
      "   4   5   6   7   8   9  10  11  12  13  14]\n"
     ]
    },
    {
     "data": {
      "image/png": "[encoded data removed]",
      "text/plain": [
       "<Figure size 432x288 with 1 Axes>"
      ]
     },
     "metadata": {
      "needs_background": "light"
     },
     "output_type": "display_data"
    }
   ],
   "source": [
    "if test_get_scaled_correlation_with_sinus:\n",
    "    sinus = [int(100*(e+1)) for e in np.sin(np.linspace(0,np.pi*10,1000))]\n",
    "    plt.plot(sinus)\n",
    "    print(get_scaled_correlation(sinus, sinus)[3])\n",
    "    print(\"(should be 0. In this case shifting by -1 and 1 produces bigger correlation \" +\n",
    "          \"probabilities, because the discrete values of the sinus are asymmetrical.)\")\n",
    "    print(get_scaled_correlation(sinus, sinus)[0])\n",
    "    print(get_scaled_correlation(sinus, sinus)[1])\n",
    "    print(get_scaled_correlation(sinus, sinus)[2])\n",
    "    plt.plot(get_scaled_correlation(sinus, sinus)[0])"
   ]
  },
  {
   "cell_type": "code",
   "execution_count": null,
   "metadata": {},
   "outputs": [],
   "source": []
  }
 ],
 "metadata": {
  "kernelspec": {
   "display_name": "Python 3",
   "language": "python",
   "name": "python3"
  },
  "language_info": {
   "codemirror_mode": {
    "name": "ipython",
    "version": 3
   },
   "file_extension": ".py",
   "mimetype": "text/x-python",
   "name": "python",
   "nbconvert_exporter": "python",
   "pygments_lexer": "ipython3",
   "version": "3.7.10"
  }
 },
 "nbformat": 4,
 "nbformat_minor": 4
}
