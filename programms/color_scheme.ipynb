{
 "cells": [
  {
   "cell_type": "code",
   "execution_count": null,
   "metadata": {},
   "outputs": [],
   "source": [
    "def color_scheme(value, value_list):\n",
    "    value = value - value_list[0]\n",
    "    max_value = value_list[-1] - value_list[0]\n",
    "    if value >= 1000:\n",
    "        color = (1 - (value-1000)/(value_list[-1]-1000), 0, 0)\n",
    "    elif value >= 200:\n",
    "        color = (1, 1-(value-200)/800, 0)\n",
    "    elif value >= 50:\n",
    "        color = ((value-50)/150, 1, 0)\n",
    "    else:\n",
    "        color = (0, 1, 1-value/50)\n",
    "    return color"
   ]
  },
  {
   "cell_type": "code",
   "execution_count": 1,
   "metadata": {},
   "outputs": [],
   "source": [
    "def color_scheme(value, value_list):\n",
    "    if value >= 1000:\n",
    "        color = (1 - (value-1000)/(value_list[-1]-1000), 0, 0)\n",
    "    elif value >= 200:\n",
    "        color = (1, 1-(value-200)/800, 0)\n",
    "    elif value >= 50:\n",
    "        color = ((value-50)/150, 1, 0)\n",
    "    else:\n",
    "        color = (0, 1, 1-value/50)\n",
    "    return color"
   ]
  }
 ],
 "metadata": {
  "kernelspec": {
   "display_name": "Python 3",
   "language": "python",
   "name": "python3"
  },
  "language_info": {
   "codemirror_mode": {
    "name": "ipython",
    "version": 3
   },
   "file_extension": ".py",
   "mimetype": "text/x-python",
   "name": "python",
   "nbconvert_exporter": "python",
   "pygments_lexer": "ipython3",
   "version": "3.7.10"
  }
 },
 "nbformat": 4,
 "nbformat_minor": 4
}
