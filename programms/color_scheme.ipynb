{
 "cells": [
  {
   "cell_type": "code",
   "execution_count": 1,
   "metadata": {},
   "outputs": [],
   "source": [
    "import matplotlib.pyplot as plt    # to plot the color scheme\n",
    "# Used to navigate the directories and check for files\n",
    "import os\n",
    "# backup directory of this file, because the working directory is changed to save files\n",
    "color_schemes_directory = os.getcwd()"
   ]
  },
  {
   "cell_type": "code",
   "execution_count": 2,
   "metadata": {},
   "outputs": [],
   "source": [
    "def original_color_scheme(value, value_list):\n",
    "    if value >= 1000:\n",
    "        color = (1 - (value-1000)/(value_list[-1]-1000), 0, 0)\n",
    "    elif value >= 200:\n",
    "        color = (1, 1-(value-200)/800, 0)\n",
    "    elif value >= 50:\n",
    "        color = ((value-50)/150, 1, 0)\n",
    "    else:\n",
    "        color = (0, 1, 1-value/50)\n",
    "    return color"
   ]
  },
  {
   "cell_type": "code",
   "execution_count": 3,
   "metadata": {},
   "outputs": [],
   "source": [
    "def color_scheme(value, value_list):\n",
    "    value = value - value_list[0]\n",
    "    max_value = value_list[-1] - value_list[0]\n",
    "    value = value/max_value\n",
    "    if value >= 0.75:\n",
    "        color = (1 - 4*(value-0.75), 0, 0)\n",
    "    elif value >= 0.5:\n",
    "        color = (1, 1 - 4*(value-0.5), 0)\n",
    "    elif value >= 0.25:\n",
    "        color = (4*(value-0.25), 1, 0)\n",
    "    else:\n",
    "        color = (0, 1, 1-4*value)\n",
    "    return color"
   ]
  },
  {
   "cell_type": "code",
   "execution_count": 4,
   "metadata": {},
   "outputs": [],
   "source": [
    "plt.figure(figsize=(20, 1), facecolor='darkgrey')    # enlarge plot\n",
    "ax = plt.axes(frameon=False)\n",
    "ax.axes.get_yaxis().set_visible(False)\n",
    "ax.axes.get_xaxis().set_visible(False)\n",
    "# plt.xticks(fontsize = 50)\n",
    "array = [e for e in range(0,30)]\n",
    "for e in array: plt.scatter(e, 0, color=color_scheme(e, array), s=1000)\n",
    "os.chdir(\"..\")   # move to correct directory\n",
    "# check if the needed directory is available - otherwise create it\n",
    "if not(os.path.isdir(\"results\")): os.makedirs(\"results\")\n",
    "if not(os.path.isdir(\"results/Grundlagen\")): os.makedirs(\"results/Grundlagen\")\n",
    "plt.savefig(\"results/Grundlagen/color_schemes.png\", facecolor=\"darkgrey\")\n",
    "os.chdir(color_schemes_directory)    # return to original directory\n",
    "plt.close(\"all\")"
   ]
  }
 ],
 "metadata": {
  "kernelspec": {
   "display_name": "Python 3",
   "language": "python",
   "name": "python3"
  },
  "language_info": {
   "codemirror_mode": {
    "name": "ipython",
    "version": 3
   },
   "file_extension": ".py",
   "mimetype": "text/x-python",
   "name": "python",
   "nbconvert_exporter": "python",
   "pygments_lexer": "ipython3",
   "version": "3.7.10"
  }
 },
 "nbformat": 4,
 "nbformat_minor": 4
}
