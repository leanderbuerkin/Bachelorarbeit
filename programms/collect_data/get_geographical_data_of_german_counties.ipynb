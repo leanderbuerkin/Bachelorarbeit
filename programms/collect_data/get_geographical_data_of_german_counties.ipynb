{
 "cells": [
  {
   "cell_type": "markdown",
   "metadata": {},
   "source": [
    "# Get Geographical Data of Every German County\n",
    "Read the file [\"Readme.ipynb\"](Readme.ipynb) for more information."
   ]
  },
  {
   "cell_type": "markdown",
   "metadata": {},
   "source": [
    "## Modules\n",
    "Needed to use non-Python functionalities already programmed by someone else."
   ]
  },
  {
   "cell_type": "code",
   "execution_count": 1,
   "metadata": {},
   "outputs": [],
   "source": [
    "# Used to convert the json from the API into a Python list\n",
    "from json2xml.utils import readfromurl\n",
    "# Used to cast the polygons into np.arrays to transpose them easily with the .T function\n",
    "import numpy as np\n",
    "import matplotlib.pyplot as plt    # to plot the counties\n",
    "import json    # to save the data in \"json\"-format in a file\n",
    "# Used to navigate the directories and check for files\n",
    "import os\n",
    "# backup directory of this file, because the working directory is changed to save files\n",
    "get_geographical_data_directory = os.getcwd()"
   ]
  },
  {
   "cell_type": "markdown",
   "metadata": {},
   "source": [
    "## Control\n",
    "Set variables to \"True\" to trigger the action described by the comment and the name of the variable."
   ]
  },
  {
   "cell_type": "code",
   "execution_count": 2,
   "metadata": {},
   "outputs": [],
   "source": [
    "# decides whether a new pull from the API is made or if a local backup should be used\n",
    "counties_geography_new_pull_from_api = True\n",
    "plot_unpolished_counties_geography_for_rough_overview = True    # takes approximately 2 minutes longer\n",
    "show_examples_for_helper_functions = True\n",
    "plot_polished_counties_geography_for_rough_overview = True      # takes approximately 2 minutes longer"
   ]
  },
  {
   "cell_type": "markdown",
   "metadata": {},
   "source": [
    "The 102 counties must be checked by the user by having the program draw them.\n",
    "If all counties have been checked and the plots are not needed anymore,\n",
    "max_number_of_counties_to_plot can be set to zero to save some time."
   ]
  },
  {
   "cell_type": "code",
   "execution_count": 3,
   "metadata": {},
   "outputs": [],
   "source": [
    "max_number_of_counties_to_plot = 404"
   ]
  },
  {
   "cell_type": "markdown",
   "metadata": {},
   "source": [
    "The variable \"no_outputs_from_file_get_shapes_of_german_counties\" can be set from the file executing this one.\n",
    "If it is set to \"True\", all variables which create output to monitor the data are set to \"False\" and no output is generated."
   ]
  },
  {
   "cell_type": "code",
   "execution_count": 4,
   "metadata": {},
   "outputs": [],
   "source": [
    "try:\n",
    "    no_outputs_from_file_get_shapes_of_german_counties\n",
    "except NameError:\n",
    "    no_outputs_from_file_get_shapes_of_german_counties = False\n",
    "\n",
    "if no_outputs_from_file_get_shapes_of_german_counties:\n",
    "    plot_unpolished_counties_geography_for_rough_overview = False\n",
    "    show_examples_for_helper_functions = False\n",
    "    max_number_of_counties_to_plot = 0\n",
    "    plot_polished_counties_geography_for_rough_overview = False"
   ]
  },
  {
   "cell_type": "markdown",
   "metadata": {},
   "source": [
    "The variable \"number_of_counties\" is also set here: It determines how many counties must be present in the data. If there are fewer or more, the current data source is declared a fail and (if possible) another one is used. It could also be set from the file calling this one, the try-except-construct exists for this purpose."
   ]
  },
  {
   "cell_type": "code",
   "execution_count": 5,
   "metadata": {},
   "outputs": [],
   "source": [
    "try:\n",
    "    number_of_counties\n",
    "except NameError:\n",
    "    number_of_counties = 412"
   ]
  },
  {
   "cell_type": "markdown",
   "metadata": {},
   "source": [
    "### Check the Controls\n",
    "Check if the necessary files exist, otherwise the data must be taken from somewhere else (in this case from the API)."
   ]
  },
  {
   "cell_type": "code",
   "execution_count": 6,
   "metadata": {},
   "outputs": [],
   "source": [
    "os.chdir(\"..\"), os.chdir(\"..\")    # move one directory up\n",
    "if not(os.path.isfile(\"data/unpolished_data/german_counties_geography.txt\")):\n",
    "    counties_geography_new_pull_from_api = True\n",
    "os.chdir(get_geographical_data_directory)    # return to original directory"
   ]
  },
  {
   "cell_type": "markdown",
   "metadata": {},
   "source": [
    "## Get the Data and Save it in a File\n",
    "### Pull the Data from the API\n",
    "A pull from the [\"COVID-19 Datenhub\"](https://npgeo-corona-npgeo-de.hub.arcgis.com/datasets/917fc37a709542548cc3be077a786c17_0?geometry=-30.805%2C46.211%2C52.823%2C55.839) is initiated if \"counties_geography_new_pull_from_api\" is set to \"True\" or if \"pulling\" from the local backup of an old API-pull is not possible because of missing data. \n",
    "<br/>\n",
    "<br/>\n",
    "The program raises an error and \"pulls\" from a local backup of the API if the data does not contain as many counties as requested in the variable \"number_of_counties\".\n",
    "<br/>\n",
    "<br/>\n",
    "If the unpolished data passes this rudimentary test, it is stored as it is in the file \"german_counties_geography.txt\" in the folder \"unpolished_data\". If the folder or the file does not yet exist, it is created.<br/>\n",
    "This file can be used in further executions as a local backup of the API-pull."
   ]
  },
  {
   "cell_type": "code",
   "execution_count": 7,
   "metadata": {
    "scrolled": true
   },
   "outputs": [],
   "source": [
    "if counties_geography_new_pull_from_api:\n",
    "    # get the data - the url is kept in this long format to easily copy and check it manually\n",
    "    counties_geography_raw = readfromurl(\"https://services7.arcgis.com/mOBPykOjAyBO2ZKk/arcgis/rest/services/RKI_Landkreisdaten/FeatureServer/0/query?where=1%3D1&outFields=*&outSR=4326&f=json\")\n",
    "    # data is maybe faulty: if so report to user and use local backup of old API pull\n",
    "    if len(counties_geography_raw[\"features\"]) != number_of_counties:\n",
    "        counties_geography_new_pull_from_api = False\n",
    "        print(\"The provided data from the API does not have the preset number of counties of\" +\n",
    "        \"{}, it has {}.\".format(number_of_counties, len(counties_geography_raw[\"features\"])))\n",
    "    else:    # data seems to be fine: continue\n",
    "        os.chdir(\"..\"), os.chdir(\"..\")    # move one directory up\n",
    "        # check if the needed directories are available - otherwise create it\n",
    "        if not(os.path.isdir(\"data\")): os.makedirs(\"data\")\n",
    "        if not(os.path.isdir(\"data/unpolished_data\")): os.makedirs(\"data/unpolished_data\")\n",
    "        with open(\"data/unpolished_data/german_counties_geography.txt\", \"w\") as file:\n",
    "            file.write(json.dumps(counties_geography_raw))\n",
    "        os.chdir(original_directory)    # return to original directory\n",
    "        print(\"Data directly from API is ready to go!\")"
   ]
  },
  {
   "cell_type": "markdown",
   "metadata": {},
   "source": [
    "### \"Pull\" the Data from the Local API Backup\n",
    "If the use of the data from a local backup of the API-pull is requested and possible,\n",
    "the data from a local backup of an old API pull is used.\n",
    "<br/>\n",
    "The data from the backup is provided without further tests."
   ]
  },
  {
   "cell_type": "code",
   "execution_count": 8,
   "metadata": {},
   "outputs": [
    {
     "name": "stdout",
     "output_type": "stream",
     "text": [
      "Data from old API-pull is ready to go!\n"
     ]
    }
   ],
   "source": [
    "if not(counties_geography_new_pull_from_api):\n",
    "    os.chdir(\"..\"), os.chdir(\"..\")    # move one directory up\n",
    "    with open(\"data/unpolished_data/german_counties_geography.txt\", \"r\") as file:\n",
    "        counties_geography_raw = json.loads(file.read())\n",
    "    os.chdir(get_geographical_data_directory)    # return to original directory\n",
    "    print(\"Data from old API-pull is ready to go!\")"
   ]
  },
  {
   "cell_type": "markdown",
   "metadata": {},
   "source": [
    "## Draw the Counties\n",
    "Draw the raw data from the API pull or the backup to roughly check that no county is missing."
   ]
  },
  {
   "cell_type": "code",
   "execution_count": 9,
   "metadata": {},
   "outputs": [],
   "source": [
    "if plot_unpolished_counties_geography_for_rough_overview:\n",
    "    plt.figure(figsize=(20, 20))    # enlarge plot\n",
    "    # put all shapes into the plot\n",
    "    for county in counties_geography_raw['features']:\n",
    "        for polygon in county['geometry']['rings']:\n",
    "            x, y = np.array(polygon).T\n",
    "            plt.fill(x, y)\n",
    "    plt.show()    # draw plot"
   ]
  },
  {
   "cell_type": "markdown",
   "metadata": {},
   "source": [
    "## Initiate Polished Version and Find the Counties with Multiple Polygons\n",
    "In the following, the required data is saved in the variable \"counties_geography\" and unnecessary dictionary shells are discarded.\n",
    "<br/>\n",
    "The separation of counties with multiple and single polygons is done simultaneously to save yourself the effort of another check of all counties.<br/>\n",
    "A county with multiple polygons could have enclaves, cutouts, islands or something else. Therefore its index is saved to have it checked later on by the user. The other counties do not need to be checked and their index is not saved.\n",
    "<br/>\n",
    "### Extract Necessary Data\n",
    "The data inside the dictionary \"counties_geography_raw\" is hard to reach and contains unnecessary information. Therefore the new dictionary \"counties_geography\" collects the following keys and the following kind of data (all packaged in a dictionary reachable through the AdmUnitID of a county):\n",
    "   - name: Name of the county\n",
    "   - population: Number of inhabitants from the last official estimate (varies, therefore check out the [\"COVID-19 Datenhub\"](https://npgeo-corona-npgeo-de.hub.arcgis.com/) for more information). These numbers are also used in the official incidence calculations.\n",
    "   - area_in_m2: Area of the county in square meters, cannot be calculated from the polygons stored in geometry.\n",
    "   - geometry: The shape of the county stored as one or more polygons. They also determine the position of the county on the map.\n",
    "   - raw_geometry: The original version of the geometry used to draw the outlines of the counties.\n",
    "<br/>\n",
    "\n",
    "### Find the Counties with Multiple Polygons\n",
    "The index of all counties which consist of multiple polygons are stored in the variable \"index_of_counties_with_multiple_polygons\".\n",
    "<br/><br/>\n",
    "Visualization of the reference and copy properties in Python (delete the hashtags before the print statements to generate output):"
   ]
  },
  {
   "cell_type": "code",
   "execution_count": 10,
   "metadata": {},
   "outputs": [],
   "source": [
    "a = [1, 2, 3]\n",
    "backup_of_a = a\n",
    "a[1] = 5    # destroys the backup\n",
    "# print(a, backup_of_a)\n",
    "a = list()    # sets a new reference\n",
    "# print(a, backup_of_a)"
   ]
  },
  {
   "cell_type": "markdown",
   "metadata": {},
   "source": [
    "Since the polygons are by far the biggest part of the data, we only want to duplicate them if necessary. That is why they are only referenced and are only copied when they are modified.\n",
    "<br/>\n",
    "This option, which is a bit risky but more efficient, is chosen because the original data\n",
    "is also backupped as a whole in \"unpolished_data/german_counties_geography.txt\"."
   ]
  },
  {
   "cell_type": "code",
   "execution_count": 11,
   "metadata": {},
   "outputs": [],
   "source": [
    "counties_geography = dict()\n",
    "index_of_counties_with_multiple_polygons = list()\n",
    "for county in counties_geography_raw['features']:\n",
    "    # convert the AdmUnitId to a string to keep uniformity:\n",
    "    # after saving and loading from a file all keys are strings\n",
    "    AdmUnitId = str(county['attributes']['AdmUnitId'])\n",
    "    counties_geography[AdmUnitId] = dict(\n",
    "        name = county['attributes']['county'],\n",
    "        population = county['attributes']['EWZ'],\n",
    "        area_in_m2 = county['attributes']['Shape__Area'],\n",
    "        # referencing the original polygons -\n",
    "        # cf. \"Visualization of the reference and copy properties\" further above\n",
    "        geometry = county['geometry']['rings'],\n",
    "        raw_geometry = county['geometry']['rings']\n",
    "    )\n",
    "    # store the index of every county with more than one polygon\n",
    "    if len(county['geometry']['rings']) > 1:\n",
    "        index_of_counties_with_multiple_polygons.append(AdmUnitId)"
   ]
  },
  {
   "cell_type": "markdown",
   "metadata": {},
   "source": [
    "## Calculate the Population Density\n",
    "The population density is calculated by dividing the population number by the area in square meters. In order to scale it to kilometers, the result is multiplied by 1,000,000.<br/>\n",
    "The final result is stored in the dictionary \"counties_geography\".\n",
    "<br/><br/>\n",
    "The population of the counties is calculated inhere, because it is saved with the geographical data.\n",
    "The population density of the german districts is calculated in the get_data file because it is saved in the non_county_specific variable, which is created and saved in the get_data file."
   ]
  },
  {
   "cell_type": "code",
   "execution_count": 12,
   "metadata": {},
   "outputs": [],
   "source": [
    "for county in counties_geography.values():\n",
    "    county[\"population_density\"] = (county['population'] * 1000000)/county['area_in_m2']"
   ]
  },
  {
   "cell_type": "markdown",
   "metadata": {},
   "source": [
    "## Check the Counties with Multiple Polygons\n",
    "### Helper Functions\n",
    "If a county has more than one polygon stored as its shape, the user has to check whether the polygons are cutouts or real area.\n",
    "Since the fastest way of doing this is by hand, there are five functions to support that.<br/>"
   ]
  },
  {
   "cell_type": "markdown",
   "metadata": {},
   "source": [
    "**draw_polygon(polygon, plot_immediately, color)**: returns void (could show a plot)<br/>\n",
    "*polygon*<br/>\n",
    "-> shape of the polygon/county\n",
    "<br/>\n",
    "*plot_immediately* (default: True)<br/>\n",
    "-> Determines whether \"plt.show()\" gets executed or not. If not, the plot will be drawn into one coordinate system with all other plots created in the same manner whenever plt.show() is called - allows to draw multiple polygons in one coordinate system.\n",
    "<br/>\n",
    "*plt_color* (default: None (standard color sequence))<br/>\n",
    "-> sets the color of the polygon"
   ]
  },
  {
   "cell_type": "code",
   "execution_count": 13,
   "metadata": {},
   "outputs": [],
   "source": [
    "def draw_polygon(polygon, plot_immediately = True, plt_color = None):\n",
    "    x,y = np.array(polygon).T\n",
    "    if plt_color:\n",
    "        plt.fill(x, y, color = plt_color)\n",
    "    else:\n",
    "        plt.fill(x, y)\n",
    "    if plot_immediately: plt.show()"
   ]
  },
  {
   "cell_type": "code",
   "execution_count": 14,
   "metadata": {},
   "outputs": [],
   "source": [
    "if show_examples_for_helper_functions:\n",
    "    print(\"all default: color by standard color scheme and plot immediately\")\n",
    "    draw_polygon([[1, 1], [1, 2], [2, 2], [2, 1]])\n",
    "\n",
    "    print(\"change color to red ('r')\")\n",
    "    draw_polygon([[1, 1], [1, 2], [2, 2], [2, 1]], True, \"r\")\n",
    "\n",
    "    print(\"change color to red ('r') and do not draw it\")\n",
    "    draw_polygon([[1, 1], [1, 2], [2, 2], [2, 1]], False, \"r\")\n",
    "    print(\"seemingly cutout center of the red square from directly above \" +\n",
    "          \"by using white as color and plot it\")\n",
    "    draw_polygon([[1.25, 1.25], [1.25, 1.75], [1.75, 1.75], [1.75, 1.25]], True, \"w\")"
   ]
  },
  {
   "cell_type": "markdown",
   "metadata": {},
   "source": [
    "**draw_polygons(polygons, plot_single, plot_immediately , plt_color)**: returns void (could show multiple plots)<br/>\n",
    "*polygons*<br/>\n",
    "-> shapes of polygons/counties\n",
    "<br/>\n",
    "*plot_single* (default: False)<br/>\n",
    "-> determines wether every polygon should be drawn in its own coordinate system or if all polygons should be accumulated in one\n",
    "<br/>\n",
    "*plot_immediately* (default: True)<br/>\n",
    "-> Determines whether \"plt.show()\" gets executed in the end or not. If not, the plot(s) will be drawn into one coordinate system with all other plots created in the same manner whenever plt.show() is called - allows to draw multiple polygons in one coordinate system\n",
    "<br/>\n",
    "*plt_color* (default: None (standard color sequence))<br/>\n",
    "-> sets the color of the polygons"
   ]
  },
  {
   "cell_type": "code",
   "execution_count": 15,
   "metadata": {},
   "outputs": [],
   "source": [
    "def draw_polygons(polygons, plot_single = False, plot_immediately = True, plt_color = None):\n",
    "    for polygon in polygons[:-1]:\n",
    "        draw_polygon(polygon, plot_single, plt_color)\n",
    "    if len(polygons):\n",
    "        draw_polygon(polygons[-1], plot_immediately, plt_color)"
   ]
  },
  {
   "cell_type": "code",
   "execution_count": 16,
   "metadata": {},
   "outputs": [],
   "source": [
    "if show_examples_for_helper_functions:\n",
    "    print(\"Draw multiple polygons into one plot with the draw_polygons function:\")\n",
    "    draw_polygons([[[-1, 1], [-1, 2], [-2, 2], [-2, 1]],\n",
    "                   [[1.25, 1.25], [1.25, 1.75], [1.75, 1.75], [1.75, 1.25]]],\n",
    "                  False, True, \"r\")"
   ]
  },
  {
   "cell_type": "markdown",
   "metadata": {},
   "source": [
    "**draw_polygons_of_county(AdmUnitId)**: returns void (could show polygons of given county)<br/>\n",
    "*AdmUnitId*<br/>\n",
    "-> identifier of the county whichs polygon(s) should be drawn"
   ]
  },
  {
   "cell_type": "code",
   "execution_count": 17,
   "metadata": {},
   "outputs": [],
   "source": [
    "def draw_polygons_of_county(AdmUnitId):\n",
    "    # max_number_of_counties_to_plot gets set at the begining of the file to execute faster\n",
    "    global max_number_of_counties_to_plot\n",
    "    if max_number_of_counties_to_plot >= 0:\n",
    "        county = counties_geography[AdmUnitId]\n",
    "        plt.rcParams[\"figure.figsize\"]= (20, 20)    # enlarge plot\n",
    "        # title of the plot\n",
    "        plt.title(\"{} {} with {} polygons - check that your input is valid in the second plot!\".format(\n",
    "            AdmUnitId, county['name'], len(county['geometry'])))\n",
    "        draw_polygons(county['geometry'])"
   ]
  },
  {
   "cell_type": "markdown",
   "metadata": {},
   "source": [
    "**set_polygons_of_county(AdmUnitId, areas_or_cutouts_list)**: returns void (could show polygons of given county)<br/>\n",
    "*AdmUnitId*<br/>\n",
    "-> identifier of the county whichs polygon(s) should be modified and drawn.<br/>\n",
    "*areas_or_cutouts_list* - same length as list of polygons related to this county, allows \"add\", \"remove\" or \"exclude\" as elements.<br/>\n",
    "-> Determines which of the following actions should be taken:<br/>\n",
    "<br/>\n",
    "Executes the following for every polygon related to the county, determined by the keywords (highlighted by quotation marks) in the list \"areas_or_cutouts_list\":\n",
    "- \"add\" the polygon to the list \"counties_geography[AdmUnitID]['geometry']\"\n",
    "- \"remove\" the polygon/cut the polygon out of its predecessor in the polygon list \"counties_geography[AdmUnitID]['geometry']\"\n",
    "  (this is done by adding it to the prior polygon and adding the last coordinate again,\n",
    "  so technically there is a small slice cut out of the real area. This is only a problem when the outline is drawn, for this purpose the original geometry is saved in the list \"counties_geography[AdmUnitID]['raw_geometry']\")\n",
    "- or simply \"exclude\" the polygon."
   ]
  },
  {
   "cell_type": "code",
   "execution_count": 18,
   "metadata": {},
   "outputs": [],
   "source": [
    "def set_polygons_of_county(AdmUnitId, areas_or_cutouts_list):\n",
    "    county = counties_geography[AdmUnitId]\n",
    "\n",
    "    # check if every polygon gets a value\n",
    "    if len(county['geometry']) != len(areas_or_cutouts_list):\n",
    "        raise Exception(\"lists of areas and cutouts and the polygon list\" +\n",
    "                        \"do not have the same length: {} =/= {}\".format(\n",
    "        len(areas_or_cutouts_list), len(county['geometry'])))\n",
    "\n",
    "    # create list to not destroy the backup\n",
    "    # (explained in \"Visualization of the reference and copy properties\")\n",
    "    new_county_geometry = list()\n",
    "\n",
    "    # process user information:\n",
    "    # - \"add\" to leave as is (for enclaves)\n",
    "    # - \"remove\" to trade as cutout: add it to the prior polygon (not possible for first polygon)\n",
    "    # - \"exclude\" to discard polygon\n",
    "    for polygon_index in range(len(county['geometry'])):\n",
    "        if areas_or_cutouts_list[polygon_index] == \"add\":\n",
    "            new_county_geometry.append(county['geometry'][polygon_index].copy())\n",
    "        elif areas_or_cutouts_list[polygon_index] == \"remove\" and polygon_index == 0:\n",
    "            raise Exception(\"The first polygon cannot be cutout of its prior polygon\" +\n",
    "                            \"because there is no prior polygon\")\n",
    "        elif areas_or_cutouts_list[polygon_index] == \"remove\":\n",
    "            cutout = county['geometry'][polygon_index].copy() + [new_county_geometry[-1][-1]]\n",
    "            new_county_geometry[-1] += cutout\n",
    "        # nothing needs to be done if the command is \"exclude\",\n",
    "        # but if the command is unknown an error is raised\n",
    "        elif not(areas_or_cutouts_list[polygon_index] == \"exclude\"):\n",
    "            raise Exception(\"The command {} is not known - use 'add', 'remove' or\" +\n",
    "                            \"'exclude'\".format(areas_or_cutouts_list[polygon_index]))\n",
    "\n",
    "    county['geometry'] = new_county_geometry\n",
    "\n",
    "    # draw to control\n",
    "    draw_polygons_of_county(AdmUnitId)"
   ]
  },
  {
   "cell_type": "markdown",
   "metadata": {},
   "source": [
    "**generator_index_of_counties_with_multiple_polygons()**: returns a generator to iterate over the collection of counties with multiple polygons"
   ]
  },
  {
   "cell_type": "code",
   "execution_count": 19,
   "metadata": {},
   "outputs": [],
   "source": [
    "def generator_index_of_counties_with_multiple_polygons():\n",
    "    for index_of_county_with_multiple_polygons in index_of_counties_with_multiple_polygons:\n",
    "        global max_number_of_counties_to_plot\n",
    "        max_number_of_counties_to_plot -= 1\n",
    "        yield index_of_county_with_multiple_polygons\n",
    "unchecked_counties = generator_index_of_counties_with_multiple_polygons()"
   ]
  },
  {
   "cell_type": "code",
   "execution_count": 20,
   "metadata": {},
   "outputs": [
    {
     "data": {
      "image/png": "[encoded data removed]",
      "text/plain": [
       "<Figure size 1440x1440 with 1 Axes>"
      ]
     },
     "metadata": {
      "needs_background": "light"
     },
     "output_type": "display_data"
    }
   ],
   "source": [
    "draw_polygons_of_county(\"9374\")"
   ]
  },
  {
   "cell_type": "markdown",
   "metadata": {},
   "source": [
    "### Check the Counties with Multiple Polygons\n",
    "The user has to go through all the counties and determine whether in the \"areas_or_cutouts_list\" the area should be treated as area (\"add\") or cutout (\"remove\"). For irrelevant polygons \"exclude\" can be choosen."
   ]
  },
  {
   "cell_type": "code",
   "execution_count": 21,
   "metadata": {},
   "outputs": [
    {
     "data": {
      "image/png": "[encoded data removed]",
      "text/plain": [
       "<Figure size 1440x1440 with 1 Axes>"
      ]
     },
     "metadata": {
      "needs_background": "light"
     },
     "output_type": "display_data"
    },
    {
     "data": {
      "image/png": "[encoded data removed]",
      "text/plain": [
       "<Figure size 1440x1440 with 1 Axes>"
      ]
     },
     "metadata": {
      "needs_background": "light"
     },
     "output_type": "display_data"
    }
   ],
   "source": [
    "current_county_index = next(unchecked_counties)\n",
    "draw_polygons_of_county(current_county_index)\n",
    "set_polygons_of_county(current_county_index, [\"add\", \"remove\"])"
   ]
  },
  {
   "cell_type": "code",
   "execution_count": 22,
   "metadata": {},
   "outputs": [],
   "source": [
    "current_county_index = next(unchecked_counties)\n",
    "draw_polygons_of_county(current_county_index)\n",
    "set_polygons_of_county(current_county_index, [\"add\", \"add\"])"
   ]
  },
  {
   "cell_type": "code",
   "execution_count": 23,
   "metadata": {},
   "outputs": [],
   "source": [
    "current_county_index = next(unchecked_counties)\n",
    "draw_polygons_of_county(current_county_index)\n",
    "set_polygons_of_county(current_county_index, [\"add\", \"add\"])"
   ]
  },
  {
   "cell_type": "code",
   "execution_count": 24,
   "metadata": {},
   "outputs": [],
   "source": [
    "current_county_index = next(unchecked_counties)\n",
    "draw_polygons_of_county(current_county_index)\n",
    "set_polygons_of_county(current_county_index, [\"add\"]*16)"
   ]
  },
  {
   "cell_type": "code",
   "execution_count": 25,
   "metadata": {},
   "outputs": [],
   "source": [
    "current_county_index = next(unchecked_counties)\n",
    "draw_polygons_of_county(current_county_index)\n",
    "set_polygons_of_county(current_county_index, [\"add\", \"add\", \"add\", \"add\"])"
   ]
  },
  {
   "cell_type": "code",
   "execution_count": 26,
   "metadata": {},
   "outputs": [],
   "source": [
    "current_county_index = next(unchecked_counties)\n",
    "draw_polygons_of_county(current_county_index)\n",
    "set_polygons_of_county(current_county_index, [\"add\", \"add\", \"add\", \"add\", \"add\", \"add\", \"add\", \"add\"])"
   ]
  },
  {
   "cell_type": "code",
   "execution_count": 27,
   "metadata": {},
   "outputs": [],
   "source": [
    "current_county_index = next(unchecked_counties)\n",
    "draw_polygons_of_county(current_county_index)\n",
    "set_polygons_of_county(current_county_index, [\"add\", \"remove\"])"
   ]
  },
  {
   "cell_type": "code",
   "execution_count": 28,
   "metadata": {},
   "outputs": [],
   "source": [
    "current_county_index = next(unchecked_counties)\n",
    "draw_polygons_of_county(current_county_index)\n",
    "set_polygons_of_county(current_county_index, [\"add\", \"add\", \"add\"])"
   ]
  },
  {
   "cell_type": "code",
   "execution_count": 29,
   "metadata": {
    "scrolled": true
   },
   "outputs": [],
   "source": [
    "current_county_index = next(unchecked_counties)\n",
    "draw_polygons_of_county(current_county_index)\n",
    "set_polygons_of_county(current_county_index, [\"add\", \"add\", \"add\", \"add\"])"
   ]
  },
  {
   "cell_type": "code",
   "execution_count": 30,
   "metadata": {},
   "outputs": [],
   "source": [
    "current_county_index = next(unchecked_counties)\n",
    "draw_polygons_of_county(current_county_index)\n",
    "set_polygons_of_county(current_county_index, [\"add\", \"add\"])"
   ]
  },
  {
   "cell_type": "code",
   "execution_count": 31,
   "metadata": {},
   "outputs": [],
   "source": [
    "current_county_index = next(unchecked_counties)\n",
    "draw_polygons_of_county(current_county_index)\n",
    "set_polygons_of_county(current_county_index, [\"add\", \"add\", \"add\", \"add\", \"add\"])"
   ]
  },
  {
   "cell_type": "code",
   "execution_count": 32,
   "metadata": {},
   "outputs": [],
   "source": [
    "current_county_index = next(unchecked_counties)\n",
    "draw_polygons_of_county(current_county_index)\n",
    "set_polygons_of_county(current_county_index, [\"add\", \"add\"])"
   ]
  },
  {
   "cell_type": "code",
   "execution_count": 33,
   "metadata": {},
   "outputs": [],
   "source": [
    "current_county_index = next(unchecked_counties)\n",
    "draw_polygons_of_county(current_county_index)\n",
    "set_polygons_of_county(current_county_index, [\"add\", \"add\"])"
   ]
  },
  {
   "cell_type": "code",
   "execution_count": 34,
   "metadata": {},
   "outputs": [],
   "source": [
    "current_county_index = next(unchecked_counties)\n",
    "draw_polygons_of_county(current_county_index)\n",
    "set_polygons_of_county(current_county_index, [\"add\", \"remove\"])"
   ]
  },
  {
   "cell_type": "code",
   "execution_count": 35,
   "metadata": {},
   "outputs": [],
   "source": [
    "current_county_index = next(unchecked_counties)\n",
    "draw_polygons_of_county(current_county_index)\n",
    "set_polygons_of_county(current_county_index, [\"add\", \"add\", \"add\"])"
   ]
  },
  {
   "cell_type": "code",
   "execution_count": 36,
   "metadata": {},
   "outputs": [],
   "source": [
    "current_county_index = next(unchecked_counties)\n",
    "draw_polygons_of_county(current_county_index)\n",
    "set_polygons_of_county(current_county_index, [\"add\", \"remove\", \"remove\"])"
   ]
  },
  {
   "cell_type": "code",
   "execution_count": 37,
   "metadata": {},
   "outputs": [],
   "source": [
    "current_county_index = next(unchecked_counties)\n",
    "draw_polygons_of_county(current_county_index)\n",
    "set_polygons_of_county(current_county_index, [\"add\", \"remove\"])"
   ]
  },
  {
   "cell_type": "code",
   "execution_count": 38,
   "metadata": {},
   "outputs": [],
   "source": [
    "current_county_index = next(unchecked_counties)\n",
    "draw_polygons_of_county(current_county_index)\n",
    "set_polygons_of_county(current_county_index, [\"add\", \"add\", \"add\", \"add\", \"add\", \"add\", \"add\"])"
   ]
  },
  {
   "cell_type": "code",
   "execution_count": 39,
   "metadata": {},
   "outputs": [],
   "source": [
    "current_county_index = next(unchecked_counties)\n",
    "draw_polygons_of_county(current_county_index)\n",
    "set_polygons_of_county(current_county_index, [\"add\", \"add\", \"add\"])"
   ]
  },
  {
   "cell_type": "code",
   "execution_count": 40,
   "metadata": {},
   "outputs": [],
   "source": [
    "current_county_index = next(unchecked_counties)\n",
    "draw_polygons_of_county(current_county_index)\n",
    "set_polygons_of_county(current_county_index, [\"add\", \"add\", \"add\", \"add\", \"add\"])"
   ]
  },
  {
   "cell_type": "code",
   "execution_count": 41,
   "metadata": {},
   "outputs": [],
   "source": [
    "current_county_index = next(unchecked_counties)\n",
    "draw_polygons_of_county(current_county_index)\n",
    "set_polygons_of_county(current_county_index, [\"add\", \"remove\"])"
   ]
  },
  {
   "cell_type": "code",
   "execution_count": 42,
   "metadata": {},
   "outputs": [],
   "source": [
    "current_county_index = next(unchecked_counties)\n",
    "draw_polygons_of_county(current_county_index)\n",
    "set_polygons_of_county(current_county_index, [\"add\", \"add\"])"
   ]
  },
  {
   "cell_type": "code",
   "execution_count": 43,
   "metadata": {},
   "outputs": [],
   "source": [
    "current_county_index = next(unchecked_counties)\n",
    "draw_polygons_of_county(current_county_index)\n",
    "set_polygons_of_county(current_county_index, [\"add\", \"add\", \"add\"])"
   ]
  },
  {
   "cell_type": "code",
   "execution_count": 44,
   "metadata": {
    "scrolled": true
   },
   "outputs": [],
   "source": [
    "current_county_index = next(unchecked_counties)\n",
    "draw_polygons_of_county(current_county_index)\n",
    "set_polygons_of_county(current_county_index, [\"add\", \"add\"])"
   ]
  },
  {
   "cell_type": "code",
   "execution_count": 45,
   "metadata": {},
   "outputs": [],
   "source": [
    "current_county_index = next(unchecked_counties)\n",
    "draw_polygons_of_county(current_county_index)\n",
    "set_polygons_of_county(current_county_index, [\"add\", \"add\", \"add\"])"
   ]
  },
  {
   "cell_type": "code",
   "execution_count": 46,
   "metadata": {},
   "outputs": [],
   "source": [
    "current_county_index = next(unchecked_counties)\n",
    "draw_polygons_of_county(current_county_index)\n",
    "set_polygons_of_county(current_county_index, [\"add\", \"add\", \"add\"])"
   ]
  },
  {
   "cell_type": "code",
   "execution_count": 47,
   "metadata": {},
   "outputs": [],
   "source": [
    "current_county_index = next(unchecked_counties)\n",
    "draw_polygons_of_county(current_county_index)\n",
    "set_polygons_of_county(current_county_index, [\"add\", \"add\"])"
   ]
  },
  {
   "cell_type": "code",
   "execution_count": 48,
   "metadata": {},
   "outputs": [],
   "source": [
    "current_county_index = next(unchecked_counties)\n",
    "draw_polygons_of_county(current_county_index)\n",
    "set_polygons_of_county(current_county_index, [\"add\", \"add\", \"add\", \"add\", \"add\"])"
   ]
  },
  {
   "cell_type": "code",
   "execution_count": 49,
   "metadata": {},
   "outputs": [],
   "source": [
    "current_county_index = next(unchecked_counties)\n",
    "draw_polygons_of_county(current_county_index)\n",
    "set_polygons_of_county(current_county_index, [\"add\", \"remove\", \"add\", \"add\"])"
   ]
  },
  {
   "cell_type": "code",
   "execution_count": 50,
   "metadata": {},
   "outputs": [],
   "source": [
    "current_county_index = next(unchecked_counties)\n",
    "draw_polygons_of_county(current_county_index)\n",
    "set_polygons_of_county(current_county_index, [\"add\", \"add\"])"
   ]
  },
  {
   "cell_type": "code",
   "execution_count": 51,
   "metadata": {},
   "outputs": [],
   "source": [
    "current_county_index = next(unchecked_counties)\n",
    "draw_polygons_of_county(current_county_index)\n",
    "set_polygons_of_county(current_county_index, [\"add\", \"add\"])"
   ]
  },
  {
   "cell_type": "code",
   "execution_count": 52,
   "metadata": {},
   "outputs": [],
   "source": [
    "current_county_index = next(unchecked_counties)\n",
    "draw_polygons_of_county(current_county_index)\n",
    "set_polygons_of_county(current_county_index, [\"add\", \"remove\"])"
   ]
  },
  {
   "cell_type": "code",
   "execution_count": 53,
   "metadata": {},
   "outputs": [],
   "source": [
    "current_county_index = next(unchecked_counties)\n",
    "draw_polygons_of_county(current_county_index)\n",
    "set_polygons_of_county(current_county_index, [\"add\", \"add\", \"remove\"])"
   ]
  },
  {
   "cell_type": "code",
   "execution_count": 54,
   "metadata": {},
   "outputs": [],
   "source": [
    "current_county_index = next(unchecked_counties)\n",
    "draw_polygons_of_county(current_county_index)\n",
    "set_polygons_of_county(current_county_index, [\"add\", \"add\", \"remove\"])"
   ]
  },
  {
   "cell_type": "code",
   "execution_count": 55,
   "metadata": {},
   "outputs": [],
   "source": [
    "current_county_index = next(unchecked_counties)\n",
    "draw_polygons_of_county(current_county_index)\n",
    "set_polygons_of_county(current_county_index, [\"add\", \"remove\"])"
   ]
  },
  {
   "cell_type": "code",
   "execution_count": 56,
   "metadata": {},
   "outputs": [],
   "source": [
    "current_county_index = next(unchecked_counties)\n",
    "draw_polygons_of_county(current_county_index)\n",
    "set_polygons_of_county(current_county_index, [\"add\", \"add\", \"add\"])"
   ]
  },
  {
   "cell_type": "code",
   "execution_count": 57,
   "metadata": {
    "scrolled": true
   },
   "outputs": [],
   "source": [
    "current_county_index = next(unchecked_counties)\n",
    "draw_polygons_of_county(current_county_index)\n",
    "set_polygons_of_county(current_county_index, [\"add\", \"remove\", \"remove\"])"
   ]
  },
  {
   "cell_type": "code",
   "execution_count": 58,
   "metadata": {},
   "outputs": [],
   "source": [
    "current_county_index = next(unchecked_counties)\n",
    "draw_polygons_of_county(current_county_index)\n",
    "set_polygons_of_county(current_county_index, [\"add\", \"remove\"])"
   ]
  },
  {
   "cell_type": "code",
   "execution_count": 59,
   "metadata": {},
   "outputs": [],
   "source": [
    "current_county_index = next(unchecked_counties)\n",
    "draw_polygons_of_county(current_county_index)\n",
    "set_polygons_of_county(current_county_index, [\"add\", \"add\"])"
   ]
  },
  {
   "cell_type": "code",
   "execution_count": 60,
   "metadata": {},
   "outputs": [],
   "source": [
    "current_county_index = next(unchecked_counties)\n",
    "draw_polygons_of_county(current_county_index)\n",
    "set_polygons_of_county(current_county_index, [\"add\", \"remove\"])"
   ]
  },
  {
   "cell_type": "code",
   "execution_count": 61,
   "metadata": {},
   "outputs": [],
   "source": [
    "current_county_index = next(unchecked_counties)\n",
    "draw_polygons_of_county(current_county_index)\n",
    "set_polygons_of_county(current_county_index, [\"add\", \"add\"])"
   ]
  },
  {
   "cell_type": "code",
   "execution_count": 62,
   "metadata": {},
   "outputs": [],
   "source": [
    "current_county_index = next(unchecked_counties)\n",
    "draw_polygons_of_county(current_county_index)\n",
    "set_polygons_of_county(current_county_index, [\"add\", \"remove\"])"
   ]
  },
  {
   "cell_type": "code",
   "execution_count": 63,
   "metadata": {},
   "outputs": [],
   "source": [
    "current_county_index = next(unchecked_counties)\n",
    "draw_polygons_of_county(current_county_index)\n",
    "set_polygons_of_county(current_county_index, [\"add\", \"add\"])"
   ]
  },
  {
   "cell_type": "code",
   "execution_count": 64,
   "metadata": {},
   "outputs": [],
   "source": [
    "current_county_index = next(unchecked_counties)\n",
    "draw_polygons_of_county(current_county_index)\n",
    "set_polygons_of_county(current_county_index, [\"add\", \"add\"])"
   ]
  },
  {
   "cell_type": "code",
   "execution_count": 65,
   "metadata": {},
   "outputs": [],
   "source": [
    "current_county_index = next(unchecked_counties)\n",
    "draw_polygons_of_county(current_county_index)\n",
    "set_polygons_of_county(current_county_index, [\"add\", \"add\", \"add\", \"add\", \"remove\", \"remove\", \"remove\"])"
   ]
  },
  {
   "cell_type": "code",
   "execution_count": 66,
   "metadata": {},
   "outputs": [],
   "source": [
    "current_county_index = next(unchecked_counties)\n",
    "draw_polygons_of_county(current_county_index)\n",
    "set_polygons_of_county(current_county_index, [\"add\", \"add\"])"
   ]
  },
  {
   "cell_type": "code",
   "execution_count": 67,
   "metadata": {},
   "outputs": [],
   "source": [
    "current_county_index = next(unchecked_counties)\n",
    "draw_polygons_of_county(current_county_index)\n",
    "set_polygons_of_county(current_county_index, [\"add\"]*4 + [\"remove\"]*7)"
   ]
  },
  {
   "cell_type": "code",
   "execution_count": 68,
   "metadata": {
    "scrolled": true
   },
   "outputs": [],
   "source": [
    "current_county_index = next(unchecked_counties)\n",
    "draw_polygons_of_county(current_county_index)\n",
    "set_polygons_of_county(current_county_index, [\"add\", \"add\", \"add\", \"remove\"])"
   ]
  },
  {
   "cell_type": "code",
   "execution_count": 69,
   "metadata": {},
   "outputs": [],
   "source": [
    "current_county_index = next(unchecked_counties)\n",
    "draw_polygons_of_county(current_county_index)\n",
    "set_polygons_of_county(current_county_index, [\"add\", \"add\", \"add\", \"add\"])"
   ]
  },
  {
   "cell_type": "code",
   "execution_count": 70,
   "metadata": {},
   "outputs": [],
   "source": [
    "current_county_index = next(unchecked_counties)\n",
    "draw_polygons_of_county(current_county_index)\n",
    "set_polygons_of_county(current_county_index, [\"add\", \"add\", \"add\", \"add\"])"
   ]
  },
  {
   "cell_type": "code",
   "execution_count": 71,
   "metadata": {},
   "outputs": [],
   "source": [
    "current_county_index = next(unchecked_counties)\n",
    "draw_polygons_of_county(current_county_index)\n",
    "set_polygons_of_county(current_county_index, [\"add\", \"add\", \"add\", \"remove\"])"
   ]
  },
  {
   "cell_type": "code",
   "execution_count": 72,
   "metadata": {},
   "outputs": [],
   "source": [
    "current_county_index = next(unchecked_counties)\n",
    "draw_polygons_of_county(current_county_index)\n",
    "set_polygons_of_county(current_county_index, [\"add\", \"remove\", \"remove\"])"
   ]
  },
  {
   "cell_type": "code",
   "execution_count": 73,
   "metadata": {
    "scrolled": true
   },
   "outputs": [],
   "source": [
    "current_county_index = next(unchecked_counties)\n",
    "draw_polygons_of_county(current_county_index)\n",
    "set_polygons_of_county(current_county_index, [\"add\", \"add\", \"add\", \"add\", \"remove\"])"
   ]
  },
  {
   "cell_type": "code",
   "execution_count": 74,
   "metadata": {
    "scrolled": true
   },
   "outputs": [],
   "source": [
    "current_county_index = next(unchecked_counties)\n",
    "draw_polygons_of_county(current_county_index)\n",
    "set_polygons_of_county(current_county_index, [\"add\", \"remove\", \"remove\", \"remove\"])"
   ]
  },
  {
   "cell_type": "code",
   "execution_count": 75,
   "metadata": {
    "scrolled": true
   },
   "outputs": [],
   "source": [
    "current_county_index = next(unchecked_counties)\n",
    "draw_polygons_of_county(current_county_index)\n",
    "set_polygons_of_county(current_county_index, [\"add\", \"remove\"])"
   ]
  },
  {
   "cell_type": "code",
   "execution_count": 76,
   "metadata": {},
   "outputs": [],
   "source": [
    "current_county_index = next(unchecked_counties)\n",
    "draw_polygons_of_county(current_county_index)\n",
    "set_polygons_of_county(current_county_index, [\"add\", \"remove\"])"
   ]
  },
  {
   "cell_type": "code",
   "execution_count": 77,
   "metadata": {},
   "outputs": [],
   "source": [
    "current_county_index = next(unchecked_counties)\n",
    "draw_polygons_of_county(current_county_index)\n",
    "set_polygons_of_county(current_county_index, [\"add\", \"remove\"])"
   ]
  },
  {
   "cell_type": "code",
   "execution_count": 78,
   "metadata": {},
   "outputs": [],
   "source": [
    "current_county_index = next(unchecked_counties)\n",
    "draw_polygons_of_county(current_county_index)\n",
    "set_polygons_of_county(current_county_index, [\"add\", \"remove\"])"
   ]
  },
  {
   "cell_type": "code",
   "execution_count": 79,
   "metadata": {},
   "outputs": [],
   "source": [
    "current_county_index = next(unchecked_counties)\n",
    "draw_polygons_of_county(current_county_index)\n",
    "set_polygons_of_county(current_county_index, [\"add\", \"remove\"])"
   ]
  },
  {
   "cell_type": "code",
   "execution_count": 80,
   "metadata": {},
   "outputs": [],
   "source": [
    "current_county_index = next(unchecked_counties)\n",
    "draw_polygons_of_county(current_county_index)\n",
    "set_polygons_of_county(current_county_index, [\"add\", \"add\"])"
   ]
  },
  {
   "cell_type": "code",
   "execution_count": 81,
   "metadata": {},
   "outputs": [],
   "source": [
    "current_county_index = next(unchecked_counties)\n",
    "draw_polygons_of_county(current_county_index)\n",
    "set_polygons_of_county(current_county_index, [\"add\", \"add\"])"
   ]
  },
  {
   "cell_type": "code",
   "execution_count": 82,
   "metadata": {},
   "outputs": [],
   "source": [
    "current_county_index = next(unchecked_counties)\n",
    "draw_polygons_of_county(current_county_index)\n",
    "set_polygons_of_county(current_county_index, [\"add\", \"add\", \"remove\"])"
   ]
  },
  {
   "cell_type": "code",
   "execution_count": 83,
   "metadata": {},
   "outputs": [],
   "source": [
    "current_county_index = next(unchecked_counties)\n",
    "draw_polygons_of_county(current_county_index)\n",
    "set_polygons_of_county(current_county_index, [\"add\", \"remove\", \"remove\", \"remove\"])"
   ]
  },
  {
   "cell_type": "code",
   "execution_count": 84,
   "metadata": {},
   "outputs": [],
   "source": [
    "current_county_index = next(unchecked_counties)\n",
    "draw_polygons_of_county(current_county_index)\n",
    "set_polygons_of_county(current_county_index, [\"add\", \"remove\"])"
   ]
  },
  {
   "cell_type": "code",
   "execution_count": 85,
   "metadata": {},
   "outputs": [],
   "source": [
    "current_county_index = next(unchecked_counties)\n",
    "draw_polygons_of_county(current_county_index)\n",
    "set_polygons_of_county(current_county_index, [\"add\", \"remove\"])"
   ]
  },
  {
   "cell_type": "code",
   "execution_count": 86,
   "metadata": {},
   "outputs": [],
   "source": [
    "current_county_index = next(unchecked_counties)\n",
    "draw_polygons_of_county(current_county_index)\n",
    "set_polygons_of_county(current_county_index, [\"add\", \"add\"])"
   ]
  },
  {
   "cell_type": "code",
   "execution_count": 87,
   "metadata": {},
   "outputs": [],
   "source": [
    "current_county_index = next(unchecked_counties)\n",
    "draw_polygons_of_county(current_county_index)\n",
    "set_polygons_of_county(current_county_index, [\"add\", \"remove\"])"
   ]
  },
  {
   "cell_type": "code",
   "execution_count": 88,
   "metadata": {},
   "outputs": [],
   "source": [
    "current_county_index = next(unchecked_counties)\n",
    "draw_polygons_of_county(current_county_index)\n",
    "set_polygons_of_county(current_county_index, [\"add\", \"remove\"])"
   ]
  },
  {
   "cell_type": "code",
   "execution_count": 89,
   "metadata": {},
   "outputs": [],
   "source": [
    "current_county_index = next(unchecked_counties)\n",
    "draw_polygons_of_county(current_county_index)\n",
    "set_polygons_of_county(current_county_index, [\"add\", \"remove\"])"
   ]
  },
  {
   "cell_type": "code",
   "execution_count": 90,
   "metadata": {},
   "outputs": [],
   "source": [
    "current_county_index = next(unchecked_counties)\n",
    "draw_polygons_of_county(current_county_index)\n",
    "set_polygons_of_county(current_county_index, [\"add\", \"remove\"])"
   ]
  },
  {
   "cell_type": "code",
   "execution_count": 91,
   "metadata": {},
   "outputs": [],
   "source": [
    "current_county_index = next(unchecked_counties)\n",
    "draw_polygons_of_county(current_county_index)\n",
    "set_polygons_of_county(current_county_index, [\"add\", \"add\"])"
   ]
  },
  {
   "cell_type": "code",
   "execution_count": 92,
   "metadata": {},
   "outputs": [],
   "source": [
    "current_county_index = next(unchecked_counties)\n",
    "draw_polygons_of_county(current_county_index)\n",
    "set_polygons_of_county(current_county_index, [\"add\", \"remove\", \"remove\"])"
   ]
  },
  {
   "cell_type": "code",
   "execution_count": 93,
   "metadata": {},
   "outputs": [],
   "source": [
    "current_county_index = next(unchecked_counties)\n",
    "draw_polygons_of_county(current_county_index)\n",
    "set_polygons_of_county(current_county_index, [\"add\", \"add\", \"add\", \"remove\"])"
   ]
  },
  {
   "cell_type": "code",
   "execution_count": 94,
   "metadata": {},
   "outputs": [],
   "source": [
    "current_county_index = next(unchecked_counties)\n",
    "draw_polygons_of_county(current_county_index)\n",
    "set_polygons_of_county(current_county_index, [\"add\", \"remove\"])"
   ]
  },
  {
   "cell_type": "code",
   "execution_count": 95,
   "metadata": {},
   "outputs": [],
   "source": [
    "current_county_index = next(unchecked_counties)\n",
    "draw_polygons_of_county(current_county_index)\n",
    "set_polygons_of_county(current_county_index, [\"add\", \"remove\"])"
   ]
  },
  {
   "cell_type": "code",
   "execution_count": 96,
   "metadata": {},
   "outputs": [],
   "source": [
    "current_county_index = next(unchecked_counties)\n",
    "draw_polygons_of_county(current_county_index)\n",
    "set_polygons_of_county(current_county_index, [\"add\", \"add\"])"
   ]
  },
  {
   "cell_type": "code",
   "execution_count": 97,
   "metadata": {},
   "outputs": [],
   "source": [
    "current_county_index = next(unchecked_counties)\n",
    "draw_polygons_of_county(current_county_index)\n",
    "set_polygons_of_county(current_county_index, [\"add\", \"remove\"])"
   ]
  },
  {
   "cell_type": "code",
   "execution_count": 98,
   "metadata": {},
   "outputs": [],
   "source": [
    "current_county_index = next(unchecked_counties)\n",
    "draw_polygons_of_county(current_county_index)\n",
    "set_polygons_of_county(current_county_index, [\"add\", \"add\"])"
   ]
  },
  {
   "cell_type": "code",
   "execution_count": 99,
   "metadata": {},
   "outputs": [],
   "source": [
    "current_county_index = next(unchecked_counties)\n",
    "draw_polygons_of_county(current_county_index)\n",
    "set_polygons_of_county(current_county_index, [\"add\", \"remove\"])"
   ]
  },
  {
   "cell_type": "code",
   "execution_count": 100,
   "metadata": {},
   "outputs": [],
   "source": [
    "current_county_index = next(unchecked_counties)\n",
    "draw_polygons_of_county(current_county_index)\n",
    "set_polygons_of_county(current_county_index, [\"add\", \"add\"])"
   ]
  },
  {
   "cell_type": "code",
   "execution_count": 101,
   "metadata": {},
   "outputs": [],
   "source": [
    "current_county_index = next(unchecked_counties)\n",
    "draw_polygons_of_county(current_county_index)\n",
    "set_polygons_of_county(current_county_index, [\"add\", \"add\"])"
   ]
  },
  {
   "cell_type": "code",
   "execution_count": 102,
   "metadata": {},
   "outputs": [],
   "source": [
    "current_county_index = next(unchecked_counties)\n",
    "draw_polygons_of_county(current_county_index)\n",
    "set_polygons_of_county(current_county_index, [\"add\", \"add\", \"add\"])"
   ]
  },
  {
   "cell_type": "code",
   "execution_count": 103,
   "metadata": {},
   "outputs": [],
   "source": [
    "current_county_index = next(unchecked_counties)\n",
    "draw_polygons_of_county(current_county_index)\n",
    "set_polygons_of_county(current_county_index, [\"add\", \"remove\"])"
   ]
  },
  {
   "cell_type": "code",
   "execution_count": 104,
   "metadata": {},
   "outputs": [],
   "source": [
    "current_county_index = next(unchecked_counties)\n",
    "draw_polygons_of_county(current_county_index)\n",
    "set_polygons_of_county(current_county_index, [\"add\", \"add\", \"add\"])"
   ]
  },
  {
   "cell_type": "code",
   "execution_count": 105,
   "metadata": {},
   "outputs": [],
   "source": [
    "current_county_index = next(unchecked_counties)\n",
    "draw_polygons_of_county(current_county_index)\n",
    "set_polygons_of_county(current_county_index, [\"add\", \"add\", \"remove\"])"
   ]
  },
  {
   "cell_type": "code",
   "execution_count": 106,
   "metadata": {},
   "outputs": [],
   "source": [
    "current_county_index = next(unchecked_counties)\n",
    "draw_polygons_of_county(current_county_index)\n",
    "set_polygons_of_county(current_county_index, [\"add\", \"add\"])"
   ]
  },
  {
   "cell_type": "code",
   "execution_count": 107,
   "metadata": {},
   "outputs": [],
   "source": [
    "current_county_index = next(unchecked_counties)\n",
    "draw_polygons_of_county(current_county_index)\n",
    "set_polygons_of_county(current_county_index, [\"add\"]*37)"
   ]
  },
  {
   "cell_type": "code",
   "execution_count": 108,
   "metadata": {},
   "outputs": [],
   "source": [
    "current_county_index = next(unchecked_counties)\n",
    "draw_polygons_of_county(current_county_index)\n",
    "set_polygons_of_county(current_county_index, [\"add\", \"add\", \"add\", \"add\", \"add\", \"add\", \"remove\", \"remove\"])"
   ]
  },
  {
   "cell_type": "code",
   "execution_count": 109,
   "metadata": {
    "scrolled": true
   },
   "outputs": [],
   "source": [
    "current_county_index = next(unchecked_counties)\n",
    "draw_polygons_of_county(current_county_index)\n",
    "set_polygons_of_county(current_county_index, [\"add\"]*21)"
   ]
  },
  {
   "cell_type": "code",
   "execution_count": 110,
   "metadata": {},
   "outputs": [],
   "source": [
    "current_county_index = next(unchecked_counties)\n",
    "draw_polygons_of_county(current_county_index)\n",
    "set_polygons_of_county(current_county_index, [\"add\", \"add\", \"add\"])"
   ]
  },
  {
   "cell_type": "code",
   "execution_count": 111,
   "metadata": {},
   "outputs": [],
   "source": [
    "current_county_index = next(unchecked_counties)\n",
    "draw_polygons_of_county(current_county_index)\n",
    "set_polygons_of_county(current_county_index, [\"add\", \"add\"])"
   ]
  },
  {
   "cell_type": "code",
   "execution_count": 112,
   "metadata": {},
   "outputs": [],
   "source": [
    "current_county_index = next(unchecked_counties)\n",
    "draw_polygons_of_county(current_county_index)\n",
    "set_polygons_of_county(current_county_index, [\"add\", \"add\", \"add\", \"remove\"])"
   ]
  },
  {
   "cell_type": "code",
   "execution_count": 113,
   "metadata": {},
   "outputs": [],
   "source": [
    "current_county_index = next(unchecked_counties)\n",
    "draw_polygons_of_county(current_county_index)\n",
    "set_polygons_of_county(current_county_index, [\"add\", \"add\"])"
   ]
  },
  {
   "cell_type": "code",
   "execution_count": 114,
   "metadata": {},
   "outputs": [],
   "source": [
    "current_county_index = next(unchecked_counties)\n",
    "draw_polygons_of_county(current_county_index)\n",
    "set_polygons_of_county(current_county_index, [\"add\", \"remove\", \"remove\"])"
   ]
  },
  {
   "cell_type": "code",
   "execution_count": 115,
   "metadata": {},
   "outputs": [],
   "source": [
    "current_county_index = next(unchecked_counties)\n",
    "draw_polygons_of_county(current_county_index)\n",
    "set_polygons_of_county(current_county_index, [\"add\", \"add\", \"add\", \"remove\"])"
   ]
  },
  {
   "cell_type": "code",
   "execution_count": 116,
   "metadata": {},
   "outputs": [],
   "source": [
    "current_county_index = next(unchecked_counties)\n",
    "draw_polygons_of_county(current_county_index)\n",
    "set_polygons_of_county(current_county_index, [\"add\", \"add\", \"remove\", \"remove\"])"
   ]
  },
  {
   "cell_type": "code",
   "execution_count": 117,
   "metadata": {},
   "outputs": [],
   "source": [
    "current_county_index = next(unchecked_counties)\n",
    "draw_polygons_of_county(current_county_index)\n",
    "set_polygons_of_county(current_county_index, [\"add\", \"add\", \"remove\"])"
   ]
  },
  {
   "cell_type": "code",
   "execution_count": 118,
   "metadata": {},
   "outputs": [],
   "source": [
    "current_county_index = next(unchecked_counties)\n",
    "draw_polygons_of_county(current_county_index)\n",
    "set_polygons_of_county(current_county_index, [\"add\", \"remove\"])"
   ]
  },
  {
   "cell_type": "code",
   "execution_count": 119,
   "metadata": {},
   "outputs": [],
   "source": [
    "current_county_index = next(unchecked_counties)\n",
    "draw_polygons_of_county(current_county_index)\n",
    "set_polygons_of_county(current_county_index, [\"add\", \"add\"])"
   ]
  },
  {
   "cell_type": "code",
   "execution_count": 120,
   "metadata": {},
   "outputs": [],
   "source": [
    "current_county_index = next(unchecked_counties)\n",
    "draw_polygons_of_county(current_county_index)\n",
    "set_polygons_of_county(current_county_index, [\"add\", \"remove\"])"
   ]
  },
  {
   "cell_type": "code",
   "execution_count": 121,
   "metadata": {},
   "outputs": [],
   "source": [
    "current_county_index = next(unchecked_counties)\n",
    "draw_polygons_of_county(current_county_index)\n",
    "set_polygons_of_county(current_county_index, [\"add\", \"remove\"])"
   ]
  },
  {
   "cell_type": "code",
   "execution_count": 122,
   "metadata": {},
   "outputs": [],
   "source": [
    "current_county_index = next(unchecked_counties)\n",
    "draw_polygons_of_county(current_county_index)\n",
    "set_polygons_of_county(current_county_index, [\"add\", \"add\", \"add\", \"add\", \"remove\"])"
   ]
  },
  {
   "cell_type": "markdown",
   "metadata": {},
   "source": [
    "## Save the Polished Data in a File\n",
    "The polished data is saved in the file \"german_counties_geography.txt\" in the folder \"polished_data\", inside the current directory. If the directory does not exist, it is created."
   ]
  },
  {
   "cell_type": "code",
   "execution_count": 123,
   "metadata": {},
   "outputs": [],
   "source": [
    "os.chdir(\"..\"), os.chdir(\"..\")    # move one directory up\n",
    "# check if the needed directories are available - otherwise create it\n",
    "if not(os.path.isdir(\"data\")): os.makedirs(\"data\")\n",
    "if not(os.path.isdir(\"data/polished_data\")): os.makedirs(\"data/polished_data\")\n",
    "with open(\"data/polished_data/german_counties_geography.txt\", \"w\") as file:\n",
    "    file.write(json.dumps(counties_geography))\n",
    "os.chdir(get_geographical_data_directory)    # return to original directory"
   ]
  },
  {
   "cell_type": "markdown",
   "metadata": {},
   "source": [
    "## Draw the Counties\n",
    "Draw the polished data to roughly check that no county is missing."
   ]
  },
  {
   "cell_type": "code",
   "execution_count": 124,
   "metadata": {},
   "outputs": [],
   "source": [
    "if plot_polished_counties_geography_for_rough_overview:\n",
    "    plt.figure(figsize = (20, 20))    # enlarge plot\n",
    "    for county in counties_geography.values():\n",
    "        for polygon in county['geometry']:\n",
    "            x,y = np.array(polygon).T\n",
    "            plt.fill(x, y)\n",
    "    plt.show()"
   ]
  }
 ],
 "metadata": {
  "kernelspec": {
   "display_name": "Python 3",
   "language": "python",
   "name": "python3"
  },
  "language_info": {
   "codemirror_mode": {
    "name": "ipython",
    "version": 3
   },
   "file_extension": ".py",
   "mimetype": "text/x-python",
   "name": "python",
   "nbconvert_exporter": "python",
   "pygments_lexer": "ipython3",
   "version": "3.7.10"
  }
 },
 "nbformat": 4,
 "nbformat_minor": 4
}
