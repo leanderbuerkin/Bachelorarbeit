{
 "cells": [
  {
   "cell_type": "markdown",
   "metadata": {},
   "source": [
    "# Function to calculate the probability of correlations between two arrays\n",
    "### Variables to be set by the calling file:\n",
    "max_shift:\n",
    "Determines what array shifts are allowed:\n",
    "The shifts represent the time delays in days;\n",
    "The time delay with the highest probability of correlation represents\n",
    "the number of days after which the numbers of one county show a similar development\n",
    "as the numbers of another county."
   ]
  },
  {
   "cell_type": "markdown",
   "metadata": {},
   "source": [
    "## Control\n",
    "Set variables to \"True\" to trigger the action described by the comment and the variable's name."
   ]
  },
  {
   "cell_type": "code",
   "execution_count": null,
   "metadata": {},
   "outputs": [],
   "source": [
    "test_get_scaled_correlation_with_sinus = False"
   ]
  },
  {
   "cell_type": "markdown",
   "metadata": {},
   "source": [
    "## Define correlation function\n",
    "Contains getting the correlations between the two given arrays, scaling the correlations by the number of products, returning the correlation, the shift between the two arrays, the number of products and the highest correlation.\n",
    "<br/><br/>\n",
    "The variable max_shift determines the maximum shift of array2 regarding array one. if it is a negative value, all possible shifts are done."
   ]
  },
  {
   "cell_type": "code",
   "execution_count": null,
   "metadata": {},
   "outputs": [],
   "source": [
    "def get_scaled_correlation(array1, array2, max_shift=-1):\n",
    "    if len(array1) != len(array2):\n",
    "        print(\"The given arrays seem to have different lengths, this might cause problems.\")\n",
    "\n",
    "    # create array with the probabilities for a correlation between\n",
    "    # array1 and array2 for every shift possible\n",
    "    correlations = np.correlate(array1, array2, mode=\"full\")\n",
    "\n",
    "    # Get the number of products\n",
    "    max_number_of_products = min(len(array1), len(array2))\n",
    "    number_of_products = np.concatenate((\n",
    "        np.arange(1, max_number_of_products),    # start of array2 left from start of array1\n",
    "        np.full_like(np.arange(abs(len(array2)-len(array1))), max_number_of_products),\n",
    "        np.arange(max_number_of_products, 0, -1)    # end of array2 right from end of array1\n",
    "    ), axis=None)\n",
    "\n",
    "    # Generate the array containing the shift of array2 relative to array1\n",
    "    position_array2_to_array1 = np.append(np.arange(-len(array2) + 1, 0),\n",
    "                                          np.arange(0, len(array1)))\n",
    "\n",
    "    if (len(correlations) != len(position_array2_to_array1) or\n",
    "        len(correlations) != len(number_of_products)):\n",
    "        raise Exception(\"The output arrays of the get_scaled_correlation-function \" +\n",
    "                        \"do not have the same length.\")\n",
    "\n",
    "    if max_shift < 0:\n",
    "        # Scale by dividing by the number of products\n",
    "        correlations = correlations // number_of_products\n",
    "        return (correlations, number_of_products, position_array2_to_array1, \n",
    "                position_array2_to_array1[np.argmax(correlations)])\n",
    "    borders = (np.where(position_array2_to_array1 == -max_shift)[0][0], \n",
    "               np.where(position_array2_to_array1 == max_shift)[0][0] + 1)\n",
    "    # Scale by dividing by the number of products\n",
    "    correlations = (correlations[borders[0]:borders[1]] //\n",
    "                    number_of_products[borders[0]:borders[1]])\n",
    "    return(\n",
    "        correlations,\n",
    "        number_of_products[borders[0]:borders[1]],\n",
    "        position_array2_to_array1[borders[0]:borders[1]],\n",
    "        position_array2_to_array1[np.argmax(correlations) + borders[0]]\n",
    "    )"
   ]
  },
  {
   "cell_type": "markdown",
   "metadata": {},
   "source": [
    "## Test the correlation function with a simple sinus"
   ]
  },
  {
   "cell_type": "code",
   "execution_count": null,
   "metadata": {},
   "outputs": [],
   "source": [
    "if test_get_scaled_correlation_with_sinus:\n",
    "    sinus = [int(100*(e+1)) for e in np.sin(np.linspace(0,np.pi*10,1000))]\n",
    "    plt.plot(sinus)\n",
    "    print(get_scaled_correlation(sinus, sinus)[3])\n",
    "    print(\"(should be 0. In this case shifting by -1 and 1 produces bigger correlation \" +\n",
    "          \"probabilities, because the discrete values of the sinus.)\")\n",
    "    print(get_scaled_correlation(sinus, sinus)[0])\n",
    "    print(get_scaled_correlation(sinus, sinus)[1])\n",
    "    print(get_scaled_correlation(sinus, sinus)[2])\n",
    "    plt.plot(get_scaled_correlation(sinus, sinus)[0])"
   ]
  },
  {
   "cell_type": "markdown",
   "metadata": {},
   "source": [
    "## Calculate the Correlation for all Counties"
   ]
  },
  {
   "cell_type": "code",
   "execution_count": null,
   "metadata": {},
   "outputs": [],
   "source": [
    "for county in covid19.values():\n",
    "    county[\"correlation\"] = dict()\n",
    "    for second_AdmUnitID, second_county in covid19.items():\n",
    "        county[\"correlation\"][second_AdmUnitID] = get_scaled_correlation(\n",
    "            county[\"incidences\"], second_county[\"incidences\"])"
   ]
  },
  {
   "cell_type": "markdown",
   "metadata": {},
   "source": [
    "## Calculate the Correlation for all Districts"
   ]
  },
  {
   "cell_type": "code",
   "execution_count": null,
   "metadata": {},
   "outputs": [],
   "source": [
    "for district in districts.values():\n",
    "    district[\"correlation\"] = dict()\n",
    "    for second_districtID, second_district in districts.items():\n",
    "        district[\"correlation\"][second_districtID] = get_scaled_correlation(\n",
    "            district[\"incidences\"], second_district[\"incidences\"])"
   ]
  }
 ],
 "metadata": {
  "kernelspec": {
   "display_name": "Python 3",
   "language": "python",
   "name": "python3"
  },
  "language_info": {
   "codemirror_mode": {
    "name": "ipython",
    "version": 3
   },
   "file_extension": ".py",
   "mimetype": "text/x-python",
   "name": "python",
   "nbconvert_exporter": "python",
   "pygments_lexer": "ipython3",
   "version": "3.7.10"
  }
 },
 "nbformat": 4,
 "nbformat_minor": 4
}
