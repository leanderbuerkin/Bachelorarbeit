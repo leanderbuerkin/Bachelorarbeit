{
 "cells": [
  {
   "cell_type": "markdown",
   "metadata": {},
   "source": [
    "# The Colored Maps of Germany\n",
    "The series of color-coded maps with the seven days incidence used for the video \"germany_incidence_V4_300ms_1080p_music.mp4\" is generated here.<br/>\n",
    "The maps show all German counties forming the map of Germany, whereas the color of a county represents its seven days incidence as defined by the legend.<br/><br/>\n",
    "Read the file [\"Readme.ipynb\"](Readme.ipynb) for more information."
   ]
  },
  {
   "cell_type": "markdown",
   "metadata": {},
   "source": [
    "## Modules\n",
    "Needed to use non-Python functionalities already programmed by someone else."
   ]
  },
  {
   "cell_type": "code",
   "execution_count": 1,
   "metadata": {},
   "outputs": [],
   "source": [
    "# Used to cast the polygons into np.arrays and afterwards transpose them easily with the .T function\n",
    "import numpy as np\n",
    "import matplotlib.pyplot as plt    # to plot the counties\n",
    "# Used to determine which part of the plot should be saved\n",
    "from matplotlib.transforms import Bbox\n",
    "# Used to underline text in plots\n",
    "from matplotlib import rc\n",
    "# Used to navigate the directories and check for files\n",
    "import os\n",
    "# backup directory of this file, because the working directory is changed to save files\n",
    "plot_maps_for_video_directory = os.getcwd()"
   ]
  },
  {
   "cell_type": "markdown",
   "metadata": {},
   "source": [
    "## Get the Data\n",
    "Read the file [\"Readme.ipynb\"](Readme.ipynb) or check out the files [\"get_data.ipynb\"](get_data.ipynb) and [\"get_geographical_data_of_german_counties.ipynb\"](get_geographical_data_of_german_counties.ipynb) for more information about the data collection."
   ]
  },
  {
   "cell_type": "code",
   "execution_count": 2,
   "metadata": {},
   "outputs": [
    {
     "name": "stdout",
     "output_type": "stream",
     "text": [
      "Polished county data from file is ready to go!\n",
      "Polished covid19 data from file is ready to go!\n"
     ]
    }
   ],
   "source": [
    "os.chdir(\"..\"), os.chdir(\"collect_data\")   # move to the cllect_data directory\n",
    "%run get_data.ipynb\n",
    "os.chdir(plot_maps_for_video_directory)    # return to original directory"
   ]
  },
  {
   "cell_type": "markdown",
   "metadata": {},
   "source": [
    "## Control\n",
    "The list \"list_of_dates_to_plot_incidences\" contains all the dates for which a map of Germany with the counties colored corresponding to the seven days incidence of this date should be created.<br/>\n",
    "Use \"range(0, len(non_county_specific_data\\['UTC'\\]))\" to plot maps for all dates. This very memory intensive task could get interrupted because the memory is full."
   ]
  },
  {
   "cell_type": "code",
   "execution_count": 3,
   "metadata": {},
   "outputs": [],
   "source": [
    "list_of_dates_to_plot_incidences = []"
   ]
  },
  {
   "cell_type": "code",
   "execution_count": 4,
   "metadata": {},
   "outputs": [],
   "source": [
    "if len(list_of_dates_to_plot_incidences) > 0:\n",
    "    # check if the needed directories are availlable - otherwise create them\n",
    "    os.chdir(\"..\"), os.chdir(\"..\")   # move two directories up\n",
    "    if not(os.path.isdir(\"results\")): os.makedirs(\"results\")\n",
    "    os.chdir(\"results\")    # move in the results directory\n",
    "    if not(os.path.isdir(\"germany_incidence_V6\")):\n",
    "        os.makedirs(\"germany_incidence_V6\")\n",
    "    os.chdir(plot_maps_for_video_directory)    # return to original directory"
   ]
  },
  {
   "cell_type": "markdown",
   "metadata": {},
   "source": [
    "### Defining the Color Spectrum\n",
    "This part creates a color spectrum specifically for the German map of seven days incidences.<br/>\n",
    "The seven days incidence of a county is directly interpreted as an index of the color spectrum. All incidences higher than the highest index are assigned the color of the last element in the spectrum.\n",
    "<br/><br/>\n",
    "As shown in the plot with the distribution of the number of seven days incidences, a seven days incidence between 0 and 50 is way more common amongst the counties than a seven days incidence between 300 and 350. Therefore the steps in the green spectrum are set to be bigger to make a bigger optical difference compared to the bigger numbers in the upper spectrum which only occur occasionally and differ more due to the exponential growth of a pandemic.\n",
    "<br/><br/>\n",
    "After multiple tries of plotting and tweaking the color spectrum, it more or less contains an exponential growth, which makes sense from an epidemiological perspective: If a county currently has 100 COVID-19 cases, it is way more likely that ten of them infect one person (in total ten) than that the only case in a county with currently one COVID-19 case infects ten more people. Therefore the jumps get statistically bigger the higher the seven days incidence grows.\n",
    "<br/>\n",
    "This is compensated by the step width of the color spectrum: the incidence must grow 10 times more in the highest part of the spectrum than in the lowest part of the spectrum to get the same numerical change of color due to the 10 times lower step width.\n",
    "<br/><br/>\n",
    "Or from another perspective: most of the time most of the counties are green and hard to distinguish, so the green color part is compressed to get more incidences in the red spectrum."
   ]
  },
  {
   "cell_type": "code",
   "execution_count": 5,
   "metadata": {},
   "outputs": [],
   "source": [
    "color_spectrum = list()\n",
    "for color_step in np.arange(0.4,1,0.05):\n",
    "    color_spectrum.append((0, color_step, 0))\n",
    "for color_step in np.arange(0,1,0.02):\n",
    "    color_spectrum.append((color_step, 1, 0))\n",
    "for color_step in np.arange(0,1,0.01):\n",
    "    color_spectrum.append((1, 1 - color_step, 0))\n",
    "for color_step in np.arange(0,0.94,0.005):\n",
    "    color_spectrum.append((1 - color_step, 0, 0))"
   ]
  },
  {
   "cell_type": "code",
   "execution_count": 6,
   "metadata": {},
   "outputs": [],
   "source": [
    "def plot_map_of_germany_incidences(date_index):\n",
    "    for AdmUnitID, county in covid19.items():\n",
    "        if county['incidences'][date_index] >= len(color_spectrum):\n",
    "            color = color_spectrum[-1]\n",
    "        else:\n",
    "            color = color_spectrum[int(county['incidences'][date_index])]\n",
    "\n",
    "        for polygon in counties_geography[AdmUnitID]['geometry']:\n",
    "            x, y = np.array(polygon).T\n",
    "            plt.fill(x, y, color=color)\n",
    "        # draw the lines around the counties\n",
    "        for polygon in counties_geography[AdmUnitID]['raw_geometry']:\n",
    "            x, y = np.array(polygon).T\n",
    "            plt.plot(x, y, color=\"black\")"
   ]
  },
  {
   "cell_type": "code",
   "execution_count": 7,
   "metadata": {},
   "outputs": [],
   "source": [
    "def plot_legend_incidences():\n",
    "    ax1 = plt.axes([0.01, 0.2, 0.06, 0.65], # postion of the legend: [left, bottom, width, height]\n",
    "                   frameon=False)\n",
    "    ax1.axes.get_xaxis().set_visible(False)\n",
    "\n",
    "    ax1.yaxis.tick_right()\n",
    "    plt.yticks([0,25,50,75,100,125,150,175,200,225,250,275,300,325,350],\n",
    "               [0,25,50,75,100,125,150,175,200,225,250,275,300,325,\">350\"], fontsize=90)\n",
    "    plt.ylabel('Seven-days-incidence', fontsize=100, rotation='vertical')\n",
    "\n",
    "    for index in range(len(color_spectrum)):\n",
    "        plt.fill([1, 2, 2, 1], 2*[1+index] + 2*[2+index], color=color_spectrum[index])\n",
    "        if index % 25 == 0:    # create black lines besides the ticks\n",
    "            plt.fill([1, 2, 2, 1], 2*[index] + 2*[1+index], color=\"black\")\n",
    "\n",
    "    # Add a black block at the end of the spectrum so that the highest tick (>350) has no ugly offset\n",
    "    plt.fill([1, 2, 2, 1], 2*[len(color_spectrum)] + 2*[10+len(color_spectrum)], color=\"black\")"
   ]
  },
  {
   "cell_type": "code",
   "execution_count": 8,
   "metadata": {},
   "outputs": [],
   "source": [
    "def plot_histogram_incidences(date_index):\n",
    "    # postion of the histogram: [left, bottom, width, height]\n",
    "    plt.axes([0.96, 0.32, 0.55, 0.35], facecolor='lightgrey')\n",
    "    plt.title(r\"\\textbf{Number of counties with given incidence}\", fontsize=90, usetex=True, y=1.02, x=0.5)\n",
    "\n",
    "    plt.xlabel(\"Incidence\", fontsize=70)\n",
    "    plt.xticks([num for num in range(0,351,50)], fontsize=70)\n",
    "    plt.xlim(0, 350)\n",
    "\n",
    "    plt.ylabel(\"Number of counties\", fontsize=75)\n",
    "    plt.yticks([num for num in range(10, 150, 10)], fontsize=70)\n",
    "    plt.ylim(0, 150)\n",
    "\n",
    "    _, _, bars = plt.hist([county['incidences'][date_index] for county in covid19.values()],\n",
    "             bins=[num for num in range(0,351,25)], edgecolor=\"black\")\n",
    "    \n",
    "    for bar in bars:\n",
    "        plt.setp(bar, \"facecolor\", color_spectrum[int(bar.get_x())])\n",
    "\n",
    "    plot_distribution_of_incidences_over_350(date_index)"
   ]
  },
  {
   "cell_type": "code",
   "execution_count": 9,
   "metadata": {},
   "outputs": [],
   "source": [
    "def plot_distribution_of_incidences_over_350(date_index):\n",
    "    # postion of the histogram: [left, bottom, width, height]\n",
    "    ax = plt.axes([1.55, 0.32, 0.04, 0.35],facecolor='lightgrey')\n",
    "    ax.axes.get_yaxis().set_visible(False)\n",
    "    plt.ylim(0, 150)\n",
    "    plt.xticks([375], [\">350\"], fontsize=70)\n",
    "    plt.xlim(350, 400)\n",
    "    \n",
    "    _, _, bars = plt.hist([county['incidences'][date_index] for county in covid19.values()], bins=[350, 100000])\n",
    "    \n",
    "    plt.setp(bars[0], \"facecolor\", \"black\")"
   ]
  },
  {
   "cell_type": "code",
   "execution_count": 10,
   "metadata": {},
   "outputs": [],
   "source": [
    "def display_text_incidences(date_index):\n",
    "    # range of dates in the bottom left corner\n",
    "    plt.text(0.5, -25, non_county_specific_data['UTC+7days'][date_index] + \" to \", fontsize=80)\n",
    "    plt.text(0.5, -39, non_county_specific_data['UTC+7days'][date_index + 7], fontsize=80)\n",
    "    # title top right\n",
    "    plt.text(17.5, 350, r'\\textbf{\\underline{Seven-days-incidence in Germany}}',\n",
    "              fontweight=220, fontsize=160, usetex=True)\n",
    "    # definition of seven days incidence top right\n",
    "    plt.text(17.5, 330, \"The number of COVID-19 cases in the last 7 days\", fontsize=95)\n",
    "    plt.text(17.5, 315, \"of each German county scaled to 100.000 people.\", fontsize=95)\n",
    "    plt.text(17.5, 300, \"Covers the period from \" + non_county_specific_data['UTC'][0] +\n",
    "             \" to \" + non_county_specific_data['UTC'][-1] + \".\", fontsize=95)\n",
    "    # data source and creater bottom right\n",
    "    plt.text(17.5, 25, \"Data from the COVID-19 Datenhub \" +\n",
    "             \"referenced by the Robert-Koch-Institut (www.rki.de):\", fontsize=55)\n",
    "    plt.text(17.5, 15, 'npgeo-corona-npgeo-de.hub.arcgis.com ' +\n",
    "             '(Used \"RKI History\" and \"RKI Corona Landkreise\")', fontsize=55)\n",
    "    plt.text(17.5, 0, 'Created by Leander Bürkin (leander.buerkin@gmail.com),',fontsize=55)\n",
    "    plt.text(17.5, -10, 'Laboratory for Simulation, Prof. Dr. Lars Pastewka, ' +\n",
    "             'Albert-Ludwigs-Universität Freiburg', fontsize=55)\n",
    "    plt.text(17.5, -20, 'https://github.com/leanderbuerkin/bachelor_project', fontsize=55)\n",
    "    plt.text(17.5, -35, 'Music: Chad Crouch - Algorithms (original)', fontsize=55)"
   ]
  },
  {
   "cell_type": "code",
   "execution_count": 11,
   "metadata": {},
   "outputs": [],
   "source": [
    "os.chdir(\"..\"), os.chdir(\"..\"), os.chdir(\"results\")    # move in the results directory\n",
    "for date_index in list_of_dates_to_plot_incidences:\n",
    "    plt.figure(figsize = (50, 65), facecolor='darkgrey')\n",
    "    ax = plt.axes(frameon=False)\n",
    "    ax.axes.get_xaxis().set_visible(False)\n",
    "    ax.axes.get_yaxis().set_visible(False)\n",
    "    plot_map_of_germany_incidences(date_index)\n",
    "    plot_histogram_incidences(date_index)\n",
    "    plot_legend_incidences()\n",
    "    display_text_incidences(date_index)\n",
    "    plt.savefig(\"germany_incidence_V6/\" + str(date_index) + '.png',\n",
    "                facecolor=\"darkgrey\", bbox_inches=Bbox([[-3.5,9],[84,57]]))\n",
    "    plt.close('all')\n",
    "os.chdir(plot_maps_for_video_directory)    # return to original directory"
   ]
  }
 ],
 "metadata": {
  "kernelspec": {
   "display_name": "Python 3",
   "language": "python",
   "name": "python3"
  },
  "language_info": {
   "codemirror_mode": {
    "name": "ipython",
    "version": 3
   },
   "file_extension": ".py",
   "mimetype": "text/x-python",
   "name": "python",
   "nbconvert_exporter": "python",
   "pygments_lexer": "ipython3",
   "version": "3.7.10"
  }
 },
 "nbformat": 4,
 "nbformat_minor": 4
}
