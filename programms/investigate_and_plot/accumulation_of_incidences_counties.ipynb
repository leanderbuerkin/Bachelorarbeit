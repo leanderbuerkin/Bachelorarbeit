{
 "cells": [
  {
   "cell_type": "markdown",
   "metadata": {},
   "source": [
    "# Plot the data\n",
    "Read the file [\"Readme.ipynb\"](Readme.ipynb) for more information."
   ]
  },
  {
   "cell_type": "markdown",
   "metadata": {},
   "source": [
    "## Modules\n",
    "Needed to use non-Python functionalities already programmed by someone else."
   ]
  },
  {
   "cell_type": "code",
   "execution_count": 1,
   "metadata": {},
   "outputs": [],
   "source": [
    "# Used to cast the polygons into np.arrays and afterwards transpose them easily with the .T function\n",
    "import numpy as np\n",
    "import matplotlib.pyplot as plt    # to plot the counties\n",
    "# Used to determine which part of the plot should be saved\n",
    "from matplotlib.transforms import Bbox\n",
    "# Used to navigate the directories and check for files\n",
    "import os\n",
    "# backup directory of this file, because the working directory is changed to save files\n",
    "accumulation_of_incidences_counties_directory = os.getcwd()"
   ]
  },
  {
   "cell_type": "markdown",
   "metadata": {},
   "source": [
    "## Get the Data\n",
    "Read the file [\"Readme.ipynb\"](Readme.ipynb) or check out the files [\"get_data.ipynb\"](get_data.ipynb) and [\"get_geographical_data_of_german_counties.ipynb\"](get_geographical_data_of_german_counties.ipynb) for more information about the data collection."
   ]
  },
  {
   "cell_type": "code",
   "execution_count": null,
   "metadata": {},
   "outputs": [
    {
     "name": "stdout",
     "output_type": "stream",
     "text": [
      "Polished county data from file is ready to go!\n",
      "Reading backup of old API pull...\n",
      "Covid19 Data from (maybe old) API-pull-backup is ready to go!\n"
     ]
    }
   ],
   "source": [
    "os.chdir(\"..\")   # move one directory up\n",
    "%run color_scheme.ipynb\n",
    "os.chdir(\"collect_data\")   # move to the cllect_data directory\n",
    "%run get_data.ipynb\n",
    "os.chdir(accumulation_of_incidences_counties_directory)    # return to original directory"
   ]
  },
  {
   "cell_type": "markdown",
   "metadata": {},
   "source": [
    "## Plot the Distribution of the Incidences in Germany"
   ]
  },
  {
   "cell_type": "code",
   "execution_count": null,
   "metadata": {},
   "outputs": [],
   "source": [
    "plt.figure(figsize=(6, 6), facecolor='darkgrey')    # enlarge plot\n",
    "incidences_of_counties_acc = dict()\n",
    "for AdmUnitId, county in covid19.items():\n",
    "    incidences_of_counties_acc[AdmUnitId] = sum(county[\"incidences\"])\n",
    "incidences_sums_copy = list(incidences_of_counties_acc.values()).copy()\n",
    "incidences_sums_copy.sort()\n",
    "\n",
    "plt.text(10, 62000, \"Anzahl: \" + str(len(incidences_sums_copy)),\n",
    "         fontweight=1000, fontsize=25, color=(0.5, 0.6, 0.75))\n",
    "plt.text(10, 55000, \"Minimum: \" + str(int(incidences_sums_copy[0])),\n",
    "         fontweight=1000, fontsize=25, color=(0.5, 0.6, 0.75))\n",
    "plt.text(10, 48000, \"Maximum: \" + str(int(incidences_sums_copy[-1])),\n",
    "         fontweight=1000, fontsize=25, color=(0.5, 0.6, 0.75))\n",
    "plt.title(\"Verteilung der akkumulierten sieben Tages\\nInzidenzen der deutschen Landkreisen\",\n",
    "         fontsize=20)\n",
    "plt.ylabel(\"Summe der sieben Tages\\nInzidenzen eines Landkreises\",\n",
    "         fontsize=15)\n",
    "plt.yticks(fontsize=15)\n",
    "\n",
    "colors = list()\n",
    "for incidences_sum in incidences_sums_copy:\n",
    "    colors.append(color_scheme(incidences_sum, incidences_sums_copy))\n",
    "plt.scatter([i for i in range(len(incidences_sums_copy))],\n",
    "            incidences_sums_copy, color=colors)\n",
    "\n",
    "ax = plt.axes([1, 0.06, 0.79, 0.96], frameon=False)\n",
    "ax.axes.get_xaxis().set_visible(False)\n",
    "ax.axes.get_yaxis().set_visible(False)\n",
    "ax.set_facecolor('darkgrey')\n",
    "for AdmUnitId, incidences_sum in incidences_of_counties_acc.items():\n",
    "    for polygon in counties_geography[AdmUnitId]['geometry']:\n",
    "        x,y = np.array(polygon).T\n",
    "        plt.fill(x, y, color=color_scheme(incidences_sum, incidences_sums_copy))\n",
    "\n",
    "os.chdir(\"..\"), os.chdir(\"..\")    # move to correct directory\n",
    "# check if the needed directory is available - otherwise create it\n",
    "if not(os.path.isdir(\"results\")): os.makedirs(\"results\")\n",
    "plt.savefig(\"results/population_density_counties.png\",\n",
    "            facecolor=\"darkgrey\", bbox_inches=Bbox([[-0.7,0.45],[10.7,6]]))\n",
    "os.chdir(accumulation_of_incidences_counties_directory)    # return to original directory"
   ]
  }
 ],
 "metadata": {
  "kernelspec": {
   "display_name": "Python 3",
   "language": "python",
   "name": "python3"
  },
  "language_info": {
   "codemirror_mode": {
    "name": "ipython",
    "version": 3
   },
   "file_extension": ".py",
   "mimetype": "text/x-python",
   "name": "python",
   "nbconvert_exporter": "python",
   "pygments_lexer": "ipython3",
   "version": "3.7.10"
  }
 },
 "nbformat": 4,
 "nbformat_minor": 4
}
