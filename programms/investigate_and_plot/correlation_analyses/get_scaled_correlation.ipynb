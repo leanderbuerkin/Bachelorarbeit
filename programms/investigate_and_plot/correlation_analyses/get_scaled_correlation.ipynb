{
 "cells": [
  {
   "cell_type": "markdown",
   "metadata": {},
   "source": [
    "# Function to calculate the probability of correlations between two arrays\n",
    "### Variables to be set by the calling file:\n",
    "max_shift:\n",
    "Determines what array shifts are allowed:\n",
    "The shifts represent the time delays in days;\n",
    "The time delay with the highest probability of correlation represents\n",
    "the number of days after which the numbers of one county show a similar development\n",
    "as the numbers of another county."
   ]
  },
  {
   "cell_type": "markdown",
   "metadata": {},
   "source": [
    "## Modules\n",
    "Needed to use non-Python functionalities already programmed by someone else."
   ]
  },
  {
   "cell_type": "code",
   "execution_count": 1,
   "metadata": {},
   "outputs": [],
   "source": [
    "# Used to cast the polygons into np.arrays and afterwards transpose them easily with the .T function\n",
    "import numpy as np\n",
    "import matplotlib.pyplot as plt    # to plot the counties"
   ]
  },
  {
   "cell_type": "markdown",
   "metadata": {},
   "source": [
    "## Control\n",
    "Set variables to \"True\" to trigger the action described by the comment and the variable's name."
   ]
  },
  {
   "cell_type": "code",
   "execution_count": 2,
   "metadata": {},
   "outputs": [],
   "source": [
    "test_get_scaled_correlation_with_sinus = False"
   ]
  },
  {
   "cell_type": "code",
   "execution_count": 3,
   "metadata": {},
   "outputs": [],
   "source": [
    "def get_scaled_correlation(array1, array2, max_shift=30):\n",
    "    if len(array1) != len(array2):\n",
    "        print(\"The given arrays seem to have different lengths, this might cause problems.\")\n",
    "\n",
    "    # create array with the probabilities for a correlation between\n",
    "    # array1 and array2 for every shift possible\n",
    "    correlations = np.correlate(array1, array2, mode=\"full\")\n",
    "    \n",
    "\n",
    "    # Get the number of products\n",
    "    max_number_of_products = min(len(array1), len(array2))\n",
    "    number_of_products = np.concatenate((\n",
    "        np.arange(1, max_number_of_products),    # start of array2 left from start of array1\n",
    "        np.full_like(np.arange(abs(len(array2)-len(array1))), max_number_of_products),\n",
    "        np.arange(max_number_of_products, 0, -1)    # end of array2 right from end of array1\n",
    "    ), axis=None)\n",
    "\n",
    "    # Generate the array containing the shift of array2 relative to array1\n",
    "    position_array2_to_array1 = np.append(np.arange(-len(array2) + 1, 0),\n",
    "                                          np.arange(0, len(array1)))\n",
    "\n",
    "    if (len(correlations) != len(position_array2_to_array1) or\n",
    "        len(correlations) != len(number_of_products)):\n",
    "        raise Exception(\"The output arrays of the get_scaled_correlation-function \" +\n",
    "                        \"do not have the same length.\")\n",
    "\n",
    "    if max_shift < 0:\n",
    "        # Scale by dividing by the number of products\n",
    "        correlations = correlations // number_of_products\n",
    "        return (correlations, number_of_products, position_array2_to_array1, \n",
    "                position_array2_to_array1[np.argmax(correlations)])\n",
    "    borders = (np.where(position_array2_to_array1 == -max_shift)[0][0], \n",
    "               np.where(position_array2_to_array1 == max_shift)[0][0] + 1)\n",
    "    # Scale by dividing by the number of products\n",
    "    correlations = (correlations[borders[0]:borders[1]] //\n",
    "                    number_of_products[borders[0]:borders[1]])\n",
    "    return(\n",
    "        correlations,\n",
    "        number_of_products[borders[0]:borders[1]],\n",
    "        position_array2_to_array1[borders[0]:borders[1]],\n",
    "        position_array2_to_array1[np.argmax(correlations) + borders[0]]\n",
    "    )"
   ]
  },
  {
   "cell_type": "code",
   "execution_count": 4,
   "metadata": {},
   "outputs": [
    {
     "name": "stdout",
     "output_type": "stream",
     "text": [
      "-1\n",
      "(should be 0. In this case shifting by -1 and 1 produces bigger correlation probabilities, because the discrete values of the sinus.)\n",
      "[12962 13084 13204 13320 13432 13541 13647 13749 13847 13941 14031 14117\n",
      " 14199 14277 14350 14419 14484 14544 14599 14650 14696 14737 14774 14806\n",
      " 14833 14855 14872 14884 14891 14894 14891 14894 14891 14884 14872 14855\n",
      " 14833 14806 14774 14737 14696 14650 14599 14544 14484 14419 14350 14277\n",
      " 14199 14117 14031 13941 13847 13749 13647 13541 13432 13320 13204 13084\n",
      " 12962]\n",
      "[ 970  971  972  973  974  975  976  977  978  979  980  981  982  983\n",
      "  984  985  986  987  988  989  990  991  992  993  994  995  996  997\n",
      "  998  999 1000  999  998  997  996  995  994  993  992  991  990  989\n",
      "  988  987  986  985  984  983  982  981  980  979  978  977  976  975\n",
      "  974  973  972  971  970]\n",
      "[-30 -29 -28 -27 -26 -25 -24 -23 -22 -21 -20 -19 -18 -17 -16 -15 -14 -13\n",
      " -12 -11 -10  -9  -8  -7  -6  -5  -4  -3  -2  -1   0   1   2   3   4   5\n",
      "   6   7   8   9  10  11  12  13  14  15  16  17  18  19  20  21  22  23\n",
      "  24  25  26  27  28  29  30]\n"
     ]
    },
    {
     "data": {
      "image/png": "[encoded data removed]",
      "text/plain": [
       "<Figure size 432x288 with 1 Axes>"
      ]
     },
     "metadata": {
      "needs_background": "light"
     },
     "output_type": "display_data"
    }
   ],
   "source": [
    "if test_get_scaled_correlation_with_sinus:\n",
    "    sinus = [int(100*(e+1)) for e in np.sin(np.linspace(0,np.pi*10,1000))]\n",
    "    plt.plot(sinus)\n",
    "    print(get_scaled_correlation(sinus, sinus)[3])\n",
    "    print(\"(should be 0. In this case shifting by -1 and 1 produces bigger correlation \" +\n",
    "          \"probabilities, because the discrete values of the sinus.)\")\n",
    "    print(get_scaled_correlation(sinus, sinus)[0])\n",
    "    print(get_scaled_correlation(sinus, sinus)[1])\n",
    "    print(get_scaled_correlation(sinus, sinus)[2])\n",
    "    plt.plot(get_scaled_correlation(sinus, sinus)[0])"
   ]
  }
 ],
 "metadata": {
  "kernelspec": {
   "display_name": "Python 3",
   "language": "python",
   "name": "python3"
  },
  "language_info": {
   "codemirror_mode": {
    "name": "ipython",
    "version": 3
   },
   "file_extension": ".py",
   "mimetype": "text/x-python",
   "name": "python",
   "nbconvert_exporter": "python",
   "pygments_lexer": "ipython3",
   "version": "3.7.10"
  }
 },
 "nbformat": 4,
 "nbformat_minor": 4
}
