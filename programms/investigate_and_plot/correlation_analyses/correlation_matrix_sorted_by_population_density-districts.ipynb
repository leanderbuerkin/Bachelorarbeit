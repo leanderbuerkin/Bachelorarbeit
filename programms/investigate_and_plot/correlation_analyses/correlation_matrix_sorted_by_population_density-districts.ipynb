{
 "cells": [
  {
   "cell_type": "markdown",
   "metadata": {},
   "source": [
    "## Modules\n",
    "Needed to use non-Python functionalities already programmed by someone else."
   ]
  },
  {
   "cell_type": "code",
   "execution_count": 1,
   "metadata": {},
   "outputs": [],
   "source": [
    "# Used to cast the polygons into np.arrays and afterwards transpose them easily with the .T function\n",
    "import numpy as np\n",
    "import matplotlib.pyplot as plt    # to plot the counties\n",
    "# Used to determine which part of the plot should be saved\n",
    "from matplotlib.transforms import Bbox\n",
    "\n",
    "# Used to underline text in plots\n",
    "from matplotlib import rc\n",
    "# To add a colorbar to the plot of the matrix\n",
    "from mpl_toolkits.axes_grid1 import make_axes_locatable\n",
    "# Used to navigate the directories and check for files\n",
    "import os\n",
    "# backup directory of this file, because the working directory is changed to save files\n",
    "cor_mx_by_pop_density_districts_directory = os.getcwd()"
   ]
  },
  {
   "cell_type": "markdown",
   "metadata": {},
   "source": [
    "## Get the Data\n",
    "Read the file [\"Readme.ipynb\"](Readme.ipynb) or check out the files [\"get_data.ipynb\"](get_data.ipynb) and [\"get_geographical_data_of_german_counties.ipynb\"](get_geographical_data_of_german_counties.ipynb) for more information about the data collection."
   ]
  },
  {
   "cell_type": "code",
   "execution_count": 2,
   "metadata": {},
   "outputs": [
    {
     "name": "stdout",
     "output_type": "stream",
     "text": [
      "Polished county data from file is ready to go!\n",
      "Polished covid19 data from file is ready to go!\n"
     ]
    }
   ],
   "source": [
    "os.chdir(\"..\"), os.chdir(\"..\")   # move two directories up\n",
    "%run color_scheme.ipynb\n",
    "os.chdir(\"collect_data\")\n",
    "%run get_data.ipynb\n",
    "os.chdir(cor_mx_by_pop_density_districts_directory)    # return to original directory"
   ]
  },
  {
   "cell_type": "markdown",
   "metadata": {},
   "source": [
    "## Function to calculate the probability of correlations between two arrays"
   ]
  },
  {
   "cell_type": "code",
   "execution_count": 3,
   "metadata": {},
   "outputs": [],
   "source": [
    "def sort_AdmUnitIDs_by_population_density():\n",
    "    districts_by_population_density = dict()\n",
    "    for districtID, district in districts.items():\n",
    "        if district['population_density'] in districts_by_population_density.keys():\n",
    "            raise Exception(\"The population density \" + str(district['population_density']) +\n",
    "                            \"seems to be related to two counties\")\n",
    "        else:\n",
    "            districts_by_population_density[district['population_density']] = districtID\n",
    "    pop_densitys = list(districts_by_population_density.keys())\n",
    "    pop_densitys.sort()\n",
    "    return [districts_by_population_density[e] for e in pop_densitys]"
   ]
  },
  {
   "cell_type": "code",
   "execution_count": 4,
   "metadata": {},
   "outputs": [],
   "source": [
    "# AdmUnitIds = list(covid19.keys())\n",
    "AdmUnitIds = sort_AdmUnitIDs_by_population_density()"
   ]
  },
  {
   "cell_type": "code",
   "execution_count": 8,
   "metadata": {},
   "outputs": [],
   "source": [
    "districtIDs_sorted_by_pop_density = \"\"\n",
    "for districtID in AdmUnitIds:\n",
    "    district_names = non_county_specific_data[\"district_names\"]\n",
    "    states_with_districts = [e[:-1] for e in district_names.keys()]\n",
    "    # take state name instead of district, because state has no districts\n",
    "    if districtID[:-1] in states_with_districts:\n",
    "        district_name = non_county_specific_data[\"district_names\"][districtID]\n",
    "    else:\n",
    "        districtID = districtID[:-1]\n",
    "        district_name = non_county_specific_data[\"states\"][districtID]\n",
    "    districtIDs_sorted_by_pop_density += districtID + \"  \" + district_name + \"\\n\\n\"\n",
    "\n",
    "os.chdir(\"..\"), os.chdir(\"..\"), os.chdir(\"..\")    # move to correct directory\n",
    "# check if the needed directory is available - otherwise create it\n",
    "if not(os.path.isdir(\"results\")): os.makedirs(\"results\")\n",
    "if not(os.path.isdir(\"results/txt-files\")): os.makedirs(\"results/txt-files\")\n",
    "with open(\"results/txt-files/districtIDs_sorted_by_pop_density.tex\", \"w\") as file:\n",
    "    file.write(districtIDs_sorted_by_pop_density)\n",
    "os.chdir(cor_mx_by_pop_density_districts_directory)    # return to original directory"
   ]
  },
  {
   "cell_type": "code",
   "execution_count": null,
   "metadata": {},
   "outputs": [],
   "source": [
    "def get_correlation_matrix(get_max_correlation_not_sum = True, max_shift = 50):\n",
    "    correlation_matrix = [[0 for c2 in range(len(AdmUnitIds))]\n",
    "                          for c1 in range(len(AdmUnitIds))]\n",
    "    for AdmUnitId in AdmUnitIds:\n",
    "        for second_AdmUnitId in AdmUnitIds:\n",
    "            i1, i2 = (AdmUnitIds.index(AdmUnitId), AdmUnitIds.index(second_AdmUnitId))\n",
    "            # if AdmUnitId1 == AdmUnitId2: continue\n",
    "            if (correlation_matrix[i1][i2] != 0): continue    # Already set\n",
    "            correlation = districts[AdmUnitId][\"correlation\"][second_AdmUnitId].copy()\n",
    "            offset = max_shift + 1\n",
    "            while get_max_correlation_not_sum and abs(offset) > max_shift:\n",
    "                # get the shift with the highest correlation probability\n",
    "                offset = non_county_specific_data[\n",
    "                    \"correlation_position_array2_to_array1\"][np.argmax(correlation)]\n",
    "                correlation[np.argmax(correlation)] = 0\n",
    "            if not(get_max_correlation_not_sum):    # sum up all probabilities\n",
    "                lc = len(correlation)//2\n",
    "                if (len(correlation[:lc]) != len(correlation[lc+1:])):\n",
    "                    raise Exception(\"Len(correlation) not correct)\")\n",
    "                if (len(correlation[lc-max_shift:lc]) !=\n",
    "                    len(correlation[lc:lc+max_shift])):\n",
    "                    raise Exception(\"Len(correlation) aslökdfjaslö\")\n",
    "                offset = (-sum(correlation[lc-max_shift:lc]) +\n",
    "                          sum(correlation[lc:lc+max_shift]))\n",
    "            correlation_matrix[i1][i2] = offset\n",
    "            correlation_matrix[i2][i1] = -offset\n",
    "    return correlation_matrix"
   ]
  },
  {
   "cell_type": "code",
   "execution_count": null,
   "metadata": {},
   "outputs": [],
   "source": [
    "correlation_matrizes = list()\n",
    "matrix_configurations = [(False, 14), (True, 14), (False, 30), \n",
    "                         (True, 30),(False, 50), (True, 50)]\n",
    "for config in matrix_configurations:\n",
    "    correlation_matrizes.append(get_correlation_matrix(config[0], config[1]))"
   ]
  },
  {
   "cell_type": "code",
   "execution_count": null,
   "metadata": {},
   "outputs": [],
   "source": [
    "fig, ax = plt.subplots(3, 2, figsize = (35, 40), facecolor='darkgrey')\n",
    "fig.tight_layout(h_pad=15)\n",
    "\n",
    "ax[0][0].text(2,-14,r'\\textbf{\\underline{Korrelationsmatrizen der Regierungsbezirke}}',\n",
    "              fontsize=90, usetex=True)\n",
    "ax[0][0].text(2,-10,r'\\textbf{\\underline{Zeilen und Spalten jeweils sortiert nach Bevölkerungsdichte}}',\n",
    "              fontsize=55, usetex=True)\n",
    "\n",
    "i = 0\n",
    "for correlation_matrix in correlation_matrizes:\n",
    "    axis = ax[i//2][i%2]\n",
    "    im1 = axis.matshow(correlation_matrix, interpolation='None')\n",
    "    if matrix_configurations[i][0]:\n",
    "        shift = str(matrix_configurations[i][1])\n",
    "        axis.text(-2,-2,\"Die Verschiebung mit der höchsten Korrelations-\\n\" +\n",
    "                        \"wahrscheinlichkeit zwischen -\"+shift+\" und \"+shift+\" Tagen.\",\n",
    "                        fontsize=40)\n",
    "    else:\n",
    "        shift = str(matrix_configurations[i][1])\n",
    "        axis.text(-2,-2,\"Mittel der Korrelationswahrscheinlichkeiten\\n\" +\n",
    "                       \"aller Verschiebungen zwischen -\"+shift+\" und \"+shift+\" Tagen.\",\n",
    "                       fontsize=40)\n",
    "    divider = make_axes_locatable(axis)\n",
    "    cax = divider.append_axes('right', size='5%', pad=1)\n",
    "    axis.axes.get_xaxis().set_visible(False)\n",
    "    axis.axes.get_yaxis().set_visible(False)\n",
    "    cbar = fig.colorbar(im1, cax=cax, orientation='vertical')\n",
    "    cbar.ax.tick_params(labelsize=50)\n",
    "    i+=1\n",
    "\n",
    "os.chdir(\"..\"), os.chdir(\"..\"), os.chdir(\"..\")    # move to correct directory\n",
    "# check if the needed directory is available - otherwise create it\n",
    "if not(os.path.isdir(\"results\")): os.makedirs(\"results\")\n",
    "fig.tight_layout(w_pad=-75)\n",
    "plt.savefig(\"results/matrizes_pop_density_districts.png\")\n",
    "os.chdir(cor_mx_by_pop_density_districts_directory)    # return to original directory"
   ]
  },
  {
   "cell_type": "markdown",
   "metadata": {},
   "source": [
    "## Germany with average shift with highest probability"
   ]
  },
  {
   "cell_type": "code",
   "execution_count": null,
   "metadata": {},
   "outputs": [],
   "source": [
    "average_correlations = dict()\n",
    "for row_index in range(len(correlation_matrizes[-1])):\n",
    "    row = correlation_matrizes[-1][row_index]\n",
    "    AdmUnitID = AdmUnitIds[row_index]\n",
    "    # Because the row represents the shift of the second\n",
    "    # county relative to the first, ralated to this row,\n",
    "    # we need to take minus to get the average shift of the county\n",
    "    # relative to all others\n",
    "    average_correlations[AdmUnitID]=-(sum(row)/len(row))"
   ]
  },
  {
   "cell_type": "code",
   "execution_count": null,
   "metadata": {},
   "outputs": [],
   "source": [
    "plt.figure(figsize=(6, 6), facecolor='darkgrey')    # enlarge plot\n",
    "average_correlations_copy = list(average_correlations.values()).copy()\n",
    "average_correlations_copy.sort()\n",
    "\n",
    "plt.title(\"Durchschnittliche Verschiebung eines\\nRegierungsbezirks gegenüber allen anderen.\",\n",
    "         fontsize=20)\n",
    "plt.ylabel(\"Verschiebung in Tagen\", fontsize=15)\n",
    "plt.yticks(fontsize=15)\n",
    "\n",
    "colors = list()\n",
    "for avg_correlation in average_correlations_copy:\n",
    "    colors.append(color_scheme(avg_correlation, average_correlations_copy))\n",
    "plt.scatter([i for i in range(len(average_correlations_copy))],\n",
    "            average_correlations_copy, color=colors)\n",
    "\n",
    "ax = plt.axes([1, 0.06, 0.79, 0.96], frameon=False)\n",
    "ax.axes.get_xaxis().set_visible(False)\n",
    "ax.axes.get_yaxis().set_visible(False)\n",
    "ax.set_facecolor('darkgrey')\n",
    "for AdmUnitId, correlation in average_correlations.items():\n",
    "    for AdmUnitID_county in districts[AdmUnitId][\"counties\"]:\n",
    "        for polygon in counties_geography[AdmUnitID_county ]['geometry']:\n",
    "            x,y = np.array(polygon).T\n",
    "            plt.fill(x, y, color=color_scheme(correlation, average_correlations_copy))\n",
    "\n",
    "os.chdir(\"..\"), os.chdir(\"..\"), os.chdir(\"..\")    # move to correct directory\n",
    "# check if the needed directory is available - otherwise create it\n",
    "if not(os.path.isdir(\"results\")): os.makedirs(\"results\")\n",
    "plt.savefig(\"results/average_shift_districts.png\",\n",
    "            facecolor=\"darkgrey\", bbox_inches=Bbox([[-0.7,0.45],[10.7,6]]))\n",
    "os.chdir(cor_mx_by_pop_density_districts_directory)    # return to original directory"
   ]
  },
  {
   "cell_type": "markdown",
   "metadata": {},
   "source": [
    "## Germany with probabiility how sure a county is behind"
   ]
  },
  {
   "cell_type": "code",
   "execution_count": null,
   "metadata": {},
   "outputs": [],
   "source": [
    "average_correlations = dict()\n",
    "for row_index in range(len(correlation_matrizes[4])):\n",
    "    row = correlation_matrizes[4][row_index]\n",
    "    AdmUnitID = AdmUnitIds[row_index]\n",
    "    # Because the row represents the shift of the second\n",
    "    # county relative to the first, related to this row,\n",
    "    # we need to take minus to get the average shift of the county\n",
    "    # relative to all others\n",
    "    average_correlations[AdmUnitID]=-(sum(row)/len(row))"
   ]
  },
  {
   "cell_type": "code",
   "execution_count": null,
   "metadata": {},
   "outputs": [],
   "source": [
    "plt.figure(figsize=(6, 6), facecolor='darkgrey')    # enlarge plot\n",
    "average_correlations_copy = list(average_correlations.values()).copy()\n",
    "average_correlations_copy.sort()\n",
    "\n",
    "plt.title(\"Summe der Wahrscheinlichkeiten für positive Verschiebungen\\n\"\n",
    "          \"minus die Summe der Wahrscheinlichkeiten für negative\\nVerschiebungen \"\n",
    "          \"eines Regierungsbezirks gegenüber allen anderen\", fontsize=17)\n",
    "plt.ylabel(\"Summe der Wahrscheinlichkeiten\\n einheitslos\", fontsize=15)\n",
    "plt.yticks(fontsize=15)\n",
    "\n",
    "colors = list()\n",
    "for avg_correlation in average_correlations_copy:\n",
    "    colors.append(color_scheme(avg_correlation, average_correlations_copy))\n",
    "plt.scatter([i for i in range(len(average_correlations_copy))],\n",
    "            average_correlations_copy, color=colors)\n",
    "\n",
    "ax = plt.axes([1, 0.06, 0.79, 0.96], frameon=False)\n",
    "ax.axes.get_xaxis().set_visible(False)\n",
    "ax.axes.get_yaxis().set_visible(False)\n",
    "ax.set_facecolor('darkgrey')\n",
    "for AdmUnitId, correlation in average_correlations.items():\n",
    "    for AdmUnitID_county in districts[AdmUnitId][\"counties\"]:\n",
    "        for polygon in counties_geography[AdmUnitID_county ]['geometry']:\n",
    "            x,y = np.array(polygon).T\n",
    "            plt.fill(x, y, color=color_scheme(correlation,\n",
    "                                              average_correlations_copy))\n",
    "\n",
    "\n",
    "os.chdir(\"..\"), os.chdir(\"..\"), os.chdir(\"..\")    # move to correct directory\n",
    "# check if the needed directory is available - otherwise create it\n",
    "if not(os.path.isdir(\"results\")): os.makedirs(\"results\")\n",
    "plt.savefig(\"results/positive_or_negative_shift_districts.png\",\n",
    "            facecolor=\"darkgrey\", bbox_inches=Bbox([[-0.9,0.45],[10.7,6.2]]))\n",
    "os.chdir(cor_mx_by_pop_density_districts_directory)    # return to original directory"
   ]
  },
  {
   "cell_type": "code",
   "execution_count": null,
   "metadata": {},
   "outputs": [],
   "source": []
  }
 ],
 "metadata": {
  "kernelspec": {
   "display_name": "Python 3",
   "language": "python",
   "name": "python3"
  },
  "language_info": {
   "codemirror_mode": {
    "name": "ipython",
    "version": 3
   },
   "file_extension": ".py",
   "mimetype": "text/x-python",
   "name": "python",
   "nbconvert_exporter": "python",
   "pygments_lexer": "ipython3",
   "version": "3.7.10"
  }
 },
 "nbformat": 4,
 "nbformat_minor": 4
}
