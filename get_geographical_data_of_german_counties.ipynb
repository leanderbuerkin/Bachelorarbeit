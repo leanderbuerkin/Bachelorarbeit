{
 "cells": [
  {
   "cell_type": "markdown",
   "metadata": {},
   "source": [
    "# Get Geographical Data of Every German County\n",
    "Read the file [\"Readme.ipynb\"](Readme.ipynb) for more information."
   ]
  },
  {
   "cell_type": "markdown",
   "metadata": {},
   "source": [
    "## Modules\n",
    "Needed to use non-Python functionalities already programmed by someone else."
   ]
  },
  {
   "cell_type": "code",
   "execution_count": 1,
   "metadata": {},
   "outputs": [],
   "source": [
    "# Used to convert the json from the API into a Python list\n",
    "from json2xml.utils import readfromurl\n",
    "import json    # to save the data in \"json\"-format in a file\n",
    "# Used to check if their is a local file with the data or if a new API pull is inevitable\n",
    "import os.path"
   ]
  },
  {
   "cell_type": "markdown",
   "metadata": {},
   "source": [
    "## Control\n",
    "Set variables to \"True\" to trigger the action described by the comment and the name of the variable."
   ]
  },
  {
   "cell_type": "code",
   "execution_count": 2,
   "metadata": {},
   "outputs": [],
   "source": [
    "# decides whether a new pull from the API is made or if a local backup should be used\n",
    "counties_geography_new_pull_from_api = True"
   ]
  },
  {
   "cell_type": "markdown",
   "metadata": {},
   "source": [
    "The variable \"number_of_counties\" is also set here: It determines how many counties must be present in the data. If there are fewer or more, the current data source is declared a fail and (if possible) another one is used. It could also be set from the file calling this one, the try-except-construct exists for this purpose."
   ]
  },
  {
   "cell_type": "code",
   "execution_count": 3,
   "metadata": {},
   "outputs": [],
   "source": [
    "try:\n",
    "    number_of_counties\n",
    "except NameError:\n",
    "    number_of_counties = 412"
   ]
  },
  {
   "cell_type": "markdown",
   "metadata": {},
   "source": [
    "### Check the Controls\n",
    "Check if the necessary files exist, otherwise the data must be taken from somewhere else (in this case from the API)."
   ]
  },
  {
   "cell_type": "code",
   "execution_count": 4,
   "metadata": {},
   "outputs": [],
   "source": [
    "if not(os.path.isfile(\"unpolished_data/german_counties_geography.txt\")):\n",
    "    counties_geography_new_pull_from_api = True"
   ]
  },
  {
   "cell_type": "markdown",
   "metadata": {},
   "source": [
    "## Get the Data and Save it in a File\n",
    "### Pull the Data from the API\n",
    "A pull from the [\"COVID-19 Datenhub\"](https://npgeo-corona-npgeo-de.hub.arcgis.com/datasets/917fc37a709542548cc3be077a786c17_0?geometry=-30.805%2C46.211%2C52.823%2C55.839) is initiated if \"counties_geography_new_pull_from_api\" is set to \"True\" or if \"pulling\" from the local backup of an old API-pull is not possible because of missing data. \n",
    "<br/>\n",
    "<br/>\n",
    "The program raises an error and \"pulls\" from a local backup of the API if the data does not contain as many counties as requested in the variable \"number_of_counties\".\n",
    "<br/>\n",
    "<br/>\n",
    "If the unpolished data passes this rudimentary test, it is stored as it is in the file \"german_counties_geography.txt\" in the folder \"unpolished_data\". If the folder or the file does not yet exist, it is created.<br/>\n",
    "This file can be used in further executions as a local backup of the API-pull."
   ]
  },
  {
   "cell_type": "code",
   "execution_count": 5,
   "metadata": {
    "scrolled": true
   },
   "outputs": [
    {
     "name": "stdout",
     "output_type": "stream",
     "text": [
      "Data directly from API is ready to go!\n"
     ]
    }
   ],
   "source": [
    "if counties_geography_new_pull_from_api:\n",
    "    # get the data - the url is kept in this long format to easily copy and check it manually\n",
    "    counties_geography_raw = readfromurl(\"https://services7.arcgis.com/mOBPykOjAyBO2ZKk/arcgis/rest/services/RKI_Landkreisdaten/FeatureServer/0/query?where=1%3D1&outFields=*&outSR=4326&f=json\")\n",
    "    # data is maybe faulty: if so report to user and use local backup of old API pull\n",
    "    if len(counties_geography_raw[\"features\"]) != number_of_counties:\n",
    "        counties_geography_new_pull_from_api = False\n",
    "        print(\"The provided data from the API does not have the preset number of counties of\" +\n",
    "        \"{}, it has {}.\".format(number_of_counties, len(counties_geography_raw[\"features\"])))\n",
    "    else:    # data seems to be fine: continue\n",
    "        # check if the needed directory is available - otherwise create it\n",
    "        if not(os.path.isdir(\"unpolished_data\")): os.makedirs(\"unpolished_data\")\n",
    "        with open(\"unpolished_data/german_counties_geography.txt\", \"w\") as file:\n",
    "            file.write(json.dumps(counties_geography_raw))\n",
    "        print(\"Data directly from API is ready to go!\")"
   ]
  },
  {
   "cell_type": "markdown",
   "metadata": {},
   "source": [
    "### \"Pull\" the Data from the Local API Backup\n",
    "If the use of the data from a local backup of the API-pull is requested and possible,\n",
    "the data from a local backup of an old API pull is used.\n",
    "<br/>\n",
    "The data from the backup is provided without further tests."
   ]
  },
  {
   "cell_type": "code",
   "execution_count": 6,
   "metadata": {},
   "outputs": [],
   "source": [
    "if not(counties_geography_new_pull_from_api) and not(counties_geography_use_polished_data):\n",
    "    with open(\"unpolished_data/german_counties_geography.txt\", \"r\") as file:\n",
    "        counties_geography_raw = json.loads(file.read())\n",
    "    print(\"Data from old API-pull is ready to go!\")"
   ]
  },
  {
   "cell_type": "markdown",
   "metadata": {},
   "source": [
    "## Initiate Polished Version and Find the Counties with Multiple Polygons\n",
    "In the following, the required data is saved in the variable \"counties_geography\" and unnecessary dictionary shells are discarded.\n",
    "<br/>\n",
    "### Extract Necessary Data\n",
    "The data inside the dictionary \"counties_geography_raw\" is hard to reach and contains unnecessary information. Therefore the new dictionary \"counties_geography\" collects the following keys and the following kind of data (all packaged in a dictionary reachable through the AdmUnitID of a county):\n",
    "   - name: Name of the county\n",
    "   - population: Number of inhabitants from the last official estimate (varies, therefore check out the [\"COVID-19 Datenhub\"](https://npgeo-corona-npgeo-de.hub.arcgis.com/) for more information). These numbers are also used in the official incidence calculations.\n",
    "   - area_in_m2: Area of the county in square meters, cannot be calculated from the polygons stored in geometry."
   ]
  },
  {
   "cell_type": "code",
   "execution_count": 7,
   "metadata": {},
   "outputs": [],
   "source": [
    "counties_geography = dict()\n",
    "for county in counties_geography_raw['features']:\n",
    "    # convert the AdmUnitId to a string to keep uniformity:\n",
    "    # after saving and loading from a file all keys are strings\n",
    "    AdmUnitId = str(county['attributes']['AdmUnitId'])\n",
    "    counties_geography[AdmUnitId] = dict(\n",
    "        name = county['attributes']['county'],\n",
    "        population = county['attributes']['EWZ'],\n",
    "        area_in_m2 = county['attributes']['Shape__Area']\n",
    "    )"
   ]
  },
  {
   "cell_type": "markdown",
   "metadata": {},
   "source": [
    "## Calculate the Population Density\n",
    "The population density is calculated by dividing the population number by the area in square meters. In order to scale it to kilometers, the result is multiplied by 1,000,000.<br/>\n",
    "The final result is stored in the dictionary \"counties_geography\"."
   ]
  },
  {
   "cell_type": "code",
   "execution_count": 8,
   "metadata": {},
   "outputs": [],
   "source": [
    "for county in counties_geography.values():\n",
    "    county[\"population_density\"] = (county['population'] * 1000000)/county['area_in_m2']"
   ]
  },
  {
   "cell_type": "markdown",
   "metadata": {},
   "source": [
    "## Save the Polished Data in a File\n",
    "The polished data is saved in the file \"german_counties_geography.txt\" in the folder \"polished_data\", inside the current directory. If the directory does not exist, it is created."
   ]
  },
  {
   "cell_type": "code",
   "execution_count": 9,
   "metadata": {},
   "outputs": [],
   "source": [
    "if not(os.path.isdir(\"polished_data\")): os.makedirs(\"polished_data\")\n",
    "with open(\"polished_data/german_counties_geography.txt\", \"w\") as file:\n",
    "    file.write(json.dumps(counties_geography))"
   ]
  }
 ],
 "metadata": {
  "kernelspec": {
   "display_name": "Python 3",
   "language": "python",
   "name": "python3"
  },
  "language_info": {
   "codemirror_mode": {
    "name": "ipython",
    "version": 3
   },
   "file_extension": ".py",
   "mimetype": "text/x-python",
   "name": "python",
   "nbconvert_exporter": "python",
   "pygments_lexer": "ipython3",
   "version": "3.7.10"
  }
 },
 "nbformat": 4,
 "nbformat_minor": 4
}
